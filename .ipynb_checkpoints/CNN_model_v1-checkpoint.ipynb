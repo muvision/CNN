{
 "cells": [
  {
   "cell_type": "markdown",
   "metadata": {
    "id": "C_DPTxoJF_lV",
    "tags": []
   },
   "source": [
    "## Import dependencies"
   ]
  },
  {
   "cell_type": "code",
   "execution_count": 495,
   "metadata": {
    "colab": {
     "base_uri": "https://localhost:8080/"
    },
    "id": "yYUJZtAE7pmq",
    "outputId": "d660cbf8-e3f1-4aa6-bd1d-2cd593667585"
   },
   "outputs": [
    {
     "name": "stdout",
     "output_type": "stream",
     "text": [
      "Requirement already satisfied: opendatasets in /Users/jpolina/anaconda3/envs/tf/lib/python3.11/site-packages (0.1.22)\n",
      "Requirement already satisfied: tqdm in /Users/jpolina/anaconda3/envs/tf/lib/python3.11/site-packages (from opendatasets) (4.65.0)\n",
      "Requirement already satisfied: kaggle in /Users/jpolina/anaconda3/envs/tf/lib/python3.11/site-packages (from opendatasets) (1.5.13)\n",
      "Requirement already satisfied: click in /Users/jpolina/anaconda3/envs/tf/lib/python3.11/site-packages (from opendatasets) (8.0.4)\n",
      "Requirement already satisfied: six>=1.10 in /Users/jpolina/anaconda3/envs/tf/lib/python3.11/site-packages (from kaggle->opendatasets) (1.16.0)\n",
      "Requirement already satisfied: certifi in /Users/jpolina/anaconda3/envs/tf/lib/python3.11/site-packages (from kaggle->opendatasets) (2023.5.7)\n",
      "Requirement already satisfied: python-dateutil in /Users/jpolina/anaconda3/envs/tf/lib/python3.11/site-packages (from kaggle->opendatasets) (2.8.2)\n",
      "Requirement already satisfied: requests in /Users/jpolina/anaconda3/envs/tf/lib/python3.11/site-packages (from kaggle->opendatasets) (2.29.0)\n",
      "Requirement already satisfied: python-slugify in /Users/jpolina/anaconda3/envs/tf/lib/python3.11/site-packages (from kaggle->opendatasets) (8.0.1)\n",
      "Requirement already satisfied: urllib3 in /Users/jpolina/anaconda3/envs/tf/lib/python3.11/site-packages (from kaggle->opendatasets) (1.26.16)\n",
      "Requirement already satisfied: text-unidecode>=1.3 in /Users/jpolina/anaconda3/envs/tf/lib/python3.11/site-packages (from python-slugify->kaggle->opendatasets) (1.3)\n",
      "Requirement already satisfied: charset-normalizer<4,>=2 in /Users/jpolina/anaconda3/envs/tf/lib/python3.11/site-packages (from requests->kaggle->opendatasets) (2.0.4)\n",
      "Requirement already satisfied: idna<4,>=2.5 in /Users/jpolina/anaconda3/envs/tf/lib/python3.11/site-packages (from requests->kaggle->opendatasets) (3.4)\n",
      "Requirement already satisfied: pandas in /Users/jpolina/anaconda3/envs/tf/lib/python3.11/site-packages (2.0.2)\n",
      "Requirement already satisfied: python-dateutil>=2.8.2 in /Users/jpolina/anaconda3/envs/tf/lib/python3.11/site-packages (from pandas) (2.8.2)\n",
      "Requirement already satisfied: pytz>=2020.1 in /Users/jpolina/anaconda3/envs/tf/lib/python3.11/site-packages (from pandas) (2022.7)\n",
      "Requirement already satisfied: tzdata>=2022.1 in /Users/jpolina/anaconda3/envs/tf/lib/python3.11/site-packages (from pandas) (2023.3)\n",
      "Requirement already satisfied: numpy>=1.21.0 in /Users/jpolina/anaconda3/envs/tf/lib/python3.11/site-packages (from pandas) (1.23.5)\n",
      "Requirement already satisfied: six>=1.5 in /Users/jpolina/anaconda3/envs/tf/lib/python3.11/site-packages (from python-dateutil>=2.8.2->pandas) (1.16.0)\n"
     ]
    }
   ],
   "source": [
    "!pip install opendatasets\n",
    "!pip install pandas\n",
    "import tensorflow as tf\n",
    "import opendatasets as od\n",
    "import pandas as pd\n",
    "import numpy as np\n",
    "import cv2 as cv\n",
    "from tensorflow.keras import datasets, layers, models\n",
    "import matplotlib.pyplot as plt\n",
    "import os\n",
    "from PIL import Image"
   ]
  },
  {
   "cell_type": "code",
   "execution_count": 425,
   "metadata": {
    "id": "YOANaXd38oyz"
   },
   "outputs": [
    {
     "name": "stdout",
     "output_type": "stream",
     "text": [
      "Please provide your Kaggle credentials to download this dataset. Learn more: http://bit.ly/kaggle-creds\n",
      "Your Kaggle username:"
     ]
    },
    {
     "name": "stdin",
     "output_type": "stream",
     "text": [
      "  jonathanpolina\n"
     ]
    },
    {
     "name": "stdout",
     "output_type": "stream",
     "text": [
      "Your Kaggle Key:"
     ]
    },
    {
     "name": "stdin",
     "output_type": "stream",
     "text": [
      "  ································\n"
     ]
    },
    {
     "name": "stdout",
     "output_type": "stream",
     "text": [
      "Downloading handwritten-math-symbols.zip to ./handwritten-math-symbols\n"
     ]
    },
    {
     "name": "stderr",
     "output_type": "stream",
     "text": [
      "100%|██████████| 39.4M/39.4M [00:02<00:00, 14.9MB/s]\n"
     ]
    },
    {
     "name": "stdout",
     "output_type": "stream",
     "text": [
      "\n"
     ]
    }
   ],
   "source": [
    "# Download the dataset from the Kaggle API\n",
    "od.download('https://www.kaggle.com/datasets/sagyamthapa/handwritten-math-symbols', force=True)"
   ]
  },
  {
   "cell_type": "markdown",
   "metadata": {
    "id": "aWp7X9UPJgHW",
    "jp-MarkdownHeadingCollapsed": true,
    "tags": []
   },
   "source": [
    "## Preprocess the Colors\n"
   ]
  },
  {
   "cell_type": "code",
   "execution_count": 426,
   "metadata": {
    "colab": {
     "base_uri": "https://localhost:8080/",
     "height": 0
    },
    "id": "yLPtqNmMHSAb",
    "outputId": "fe1b72db-b0ce-4e0b-a6a4-f9f069707617"
   },
   "outputs": [
    {
     "name": "stdout",
     "output_type": "stream",
     "text": [
      "array([[[255, 255, 255, 255],\n",
      "        [255, 255, 255, 255],\n",
      "        [255, 255, 255, 255],\n",
      "        ...,\n",
      "        [255, 255, 255, 255],\n",
      "        [255, 255, 255, 255],\n",
      "        [255, 255, 255, 255]],\n",
      "\n",
      "       [[255, 255, 255, 255],\n",
      "        [255, 255, 255, 255],\n",
      "        [255, 255, 255, 255],\n",
      "        ...,\n",
      "        [255, 255, 255, 255],\n",
      "        [255, 255, 255, 255],\n",
      "        [255, 255, 255, 255]],\n",
      "\n",
      "       [[255, 255, 255, 255],\n",
      "        [255, 255, 255, 255],\n",
      "        [255, 255, 255, 255],\n",
      "        ...,\n",
      "        [255, 255, 255, 255],\n",
      "        [255, 255, 255, 255],\n",
      "        [255, 255, 255, 255]],\n",
      "\n",
      "       ...,\n",
      "\n",
      "       [[255, 255, 255, 255],\n",
      "        [255, 255, 255, 255],\n",
      "        [255, 255, 255, 255],\n",
      "        ...,\n",
      "        [255, 255, 255, 255],\n",
      "        [255, 255, 255, 255],\n",
      "        [255, 255, 255, 255]],\n",
      "\n",
      "       [[255, 255, 255, 255],\n",
      "        [255, 255, 255, 255],\n",
      "        [255, 255, 255, 255],\n",
      "        ...,\n",
      "        [255, 255, 255, 255],\n",
      "        [255, 255, 255, 255],\n",
      "        [255, 255, 255, 255]],\n",
      "\n",
      "       [[255, 255, 255, 255],\n",
      "        [255, 255, 255, 255],\n",
      "        [255, 255, 255, 255],\n",
      "        ...,\n",
      "        [255, 255, 255, 255],\n",
      "        [255, 255, 255, 255],\n",
      "        [255, 255, 255, 255]]], dtype=uint8)\n",
      "(400, 400, 4)\n"
     ]
    },
    {
     "data": {
      "image/png": "[encoded data removed]",
      "text/plain": [
       "<Figure size 640x480 with 1 Axes>"
      ]
     },
     "metadata": {},
     "output_type": "display_data"
    }
   ],
   "source": [
    "sample_img_path = os.path.join(os.curdir, 'handwritten-math-symbols', 'dataset', '0', '0CdBlhLw.png')\n",
    "img = np.asarray(Image.open(sample_img_path))\n",
    "imgplot = plt.imshow(img)\n",
    "print(repr(img))\n",
    "print(img.shape)"
   ]
  },
  {
   "cell_type": "code",
   "execution_count": 427,
   "metadata": {
    "id": "QEMHxizrKRLu"
   },
   "outputs": [],
   "source": [
    "# Convert from CMYK to Gray scale\n",
    "data_dir = os.path.join(os.curdir, 'handwritten-math-symbols', 'dataset')\n",
    "\n",
    "for image_class in os.listdir(data_dir):\n",
    "  if image_class.startswith('.'):\n",
    "    continue\n",
    "  for image in os.listdir(os.path.join(data_dir, image_class)):\n",
    "    try:\n",
    "      image_path = os.path.join(data_dir, image_class, image)\n",
    "      image = cv.imread(image_path)\n",
    "      grayImage = cv.cvtColor(image, cv.COLOR_RGBA2RGB)\n",
    "      cv.imwrite(image_path, grayImage)\n",
    "    except:\n",
    "      continue"
   ]
  },
  {
   "cell_type": "code",
   "execution_count": 428,
   "metadata": {
    "colab": {
     "base_uri": "https://localhost:8080/",
     "height": 0
    },
    "id": "GxVjwaXZWqMS",
    "outputId": "5cfb6f73-a1f4-4f54-8cbb-0029235daf53"
   },
   "outputs": [
    {
     "name": "stdout",
     "output_type": "stream",
     "text": [
      "array([[[255, 255, 255],\n",
      "        [255, 255, 255],\n",
      "        [255, 255, 255],\n",
      "        ...,\n",
      "        [255, 255, 255],\n",
      "        [255, 255, 255],\n",
      "        [255, 255, 255]],\n",
      "\n",
      "       [[255, 255, 255],\n",
      "        [255, 255, 255],\n",
      "        [255, 255, 255],\n",
      "        ...,\n",
      "        [255, 255, 255],\n",
      "        [255, 255, 255],\n",
      "        [255, 255, 255]],\n",
      "\n",
      "       [[255, 255, 255],\n",
      "        [255, 255, 255],\n",
      "        [255, 255, 255],\n",
      "        ...,\n",
      "        [255, 255, 255],\n",
      "        [255, 255, 255],\n",
      "        [255, 255, 255]],\n",
      "\n",
      "       ...,\n",
      "\n",
      "       [[255, 255, 255],\n",
      "        [255, 255, 255],\n",
      "        [255, 255, 255],\n",
      "        ...,\n",
      "        [255, 255, 255],\n",
      "        [255, 255, 255],\n",
      "        [255, 255, 255]],\n",
      "\n",
      "       [[255, 255, 255],\n",
      "        [255, 255, 255],\n",
      "        [255, 255, 255],\n",
      "        ...,\n",
      "        [255, 255, 255],\n",
      "        [255, 255, 255],\n",
      "        [255, 255, 255]],\n",
      "\n",
      "       [[255, 255, 255],\n",
      "        [255, 255, 255],\n",
      "        [255, 255, 255],\n",
      "        ...,\n",
      "        [255, 255, 255],\n",
      "        [255, 255, 255],\n",
      "        [255, 255, 255]]], dtype=uint8)\n",
      "(400, 400, 3)\n"
     ]
    },
    {
     "data": {
      "image/png": "[encoded data removed]",
      "text/plain": [
       "<Figure size 640x480 with 1 Axes>"
      ]
     },
     "metadata": {},
     "output_type": "display_data"
    }
   ],
   "source": [
    "img = np.asarray(Image.open(sample_img_path))\n",
    "imgplot = plt.imshow(img)\n",
    "print(repr(img))\n",
    "print(img.shape)"
   ]
  },
  {
   "cell_type": "code",
   "execution_count": 429,
   "metadata": {
    "colab": {
     "base_uri": "https://localhost:8080/"
    },
    "id": "fJbNBW8LFXA3",
    "outputId": "0d630fca-45b5-45ba-be0a-75cb84b50491"
   },
   "outputs": [
    {
     "name": "stdout",
     "output_type": "stream",
     "text": [
      "Found 10073 files belonging to 19 classes.\n"
     ]
    }
   ],
   "source": [
    "batch_size = 8\n",
    "image_size = (128, 128)\n",
    "data_set = tf.keras.utils.image_dataset_from_directory(data_dir, batch_size = batch_size, image_size = image_size)"
   ]
  },
  {
   "cell_type": "code",
   "execution_count": 430,
   "metadata": {
    "colab": {
     "base_uri": "https://localhost:8080/"
    },
    "id": "ZzzNJdvGHtnF",
    "outputId": "741b4fa0-6013-4833-df0b-0caa27a89fb3"
   },
   "outputs": [
    {
     "name": "stdout",
     "output_type": "stream",
     "text": [
      "array([[[255, 255, 255],\n",
      "        [255, 255, 255],\n",
      "        [255, 255, 255],\n",
      "        ...,\n",
      "        [255, 255, 255],\n",
      "        [255, 255, 255],\n",
      "        [255, 255, 255]],\n",
      "\n",
      "       [[255, 255, 255],\n",
      "        [255, 255, 255],\n",
      "        [255, 255, 255],\n",
      "        ...,\n",
      "        [255, 255, 255],\n",
      "        [255, 255, 255],\n",
      "        [255, 255, 255]],\n",
      "\n",
      "       [[255, 255, 255],\n",
      "        [255, 255, 255],\n",
      "        [255, 255, 255],\n",
      "        ...,\n",
      "        [255, 255, 255],\n",
      "        [255, 255, 255],\n",
      "        [255, 255, 255]],\n",
      "\n",
      "       ...,\n",
      "\n",
      "       [[255, 255, 255],\n",
      "        [255, 255, 255],\n",
      "        [255, 255, 255],\n",
      "        ...,\n",
      "        [255, 255, 255],\n",
      "        [255, 255, 255],\n",
      "        [255, 255, 255]],\n",
      "\n",
      "       [[255, 255, 255],\n",
      "        [255, 255, 255],\n",
      "        [255, 255, 255],\n",
      "        ...,\n",
      "        [255, 255, 255],\n",
      "        [255, 255, 255],\n",
      "        [255, 255, 255]],\n",
      "\n",
      "       [[255, 255, 255],\n",
      "        [255, 255, 255],\n",
      "        [255, 255, 255],\n",
      "        ...,\n",
      "        [255, 255, 255],\n",
      "        [255, 255, 255],\n",
      "        [255, 255, 255]]], dtype=uint8)\n",
      "(400, 400, 3)\n"
     ]
    }
   ],
   "source": [
    "print(repr(img))\n",
    "print(img.shape)"
   ]
  },
  {
   "cell_type": "markdown",
   "metadata": {
    "id": "y4yTIBDOJvMk",
    "jp-MarkdownHeadingCollapsed": true,
    "tags": []
   },
   "source": [
    "## Preprocess data set"
   ]
  },
  {
   "cell_type": "code",
   "execution_count": 431,
   "metadata": {
    "colab": {
     "base_uri": "https://localhost:8080/"
    },
    "id": "F12eza_fcJa7",
    "outputId": "dfe5d9fd-3c82-46b6-b8f0-1aa74e852285"
   },
   "outputs": [
    {
     "data": {
      "text/plain": [
       "array([[[1., 1., 1.],\n",
       "        [1., 1., 1.],\n",
       "        [1., 1., 1.],\n",
       "        ...,\n",
       "        [1., 1., 1.],\n",
       "        [1., 1., 1.],\n",
       "        [1., 1., 1.]],\n",
       "\n",
       "       [[1., 1., 1.],\n",
       "        [1., 1., 1.],\n",
       "        [1., 1., 1.],\n",
       "        ...,\n",
       "        [1., 1., 1.],\n",
       "        [1., 1., 1.],\n",
       "        [1., 1., 1.]],\n",
       "\n",
       "       [[1., 1., 1.],\n",
       "        [1., 1., 1.],\n",
       "        [1., 1., 1.],\n",
       "        ...,\n",
       "        [1., 1., 1.],\n",
       "        [1., 1., 1.],\n",
       "        [1., 1., 1.]],\n",
       "\n",
       "       ...,\n",
       "\n",
       "       [[1., 1., 1.],\n",
       "        [1., 1., 1.],\n",
       "        [1., 1., 1.],\n",
       "        ...,\n",
       "        [1., 1., 1.],\n",
       "        [1., 1., 1.],\n",
       "        [1., 1., 1.]],\n",
       "\n",
       "       [[1., 1., 1.],\n",
       "        [1., 1., 1.],\n",
       "        [1., 1., 1.],\n",
       "        ...,\n",
       "        [1., 1., 1.],\n",
       "        [1., 1., 1.],\n",
       "        [1., 1., 1.]],\n",
       "\n",
       "       [[1., 1., 1.],\n",
       "        [1., 1., 1.],\n",
       "        [1., 1., 1.],\n",
       "        ...,\n",
       "        [1., 1., 1.],\n",
       "        [1., 1., 1.],\n",
       "        [1., 1., 1.]]], dtype=float32)"
      ]
     },
     "execution_count": 431,
     "metadata": {},
     "output_type": "execute_result"
    }
   ],
   "source": [
    "from matplotlib.image import imread\n",
    "imread(sample_img_path)"
   ]
  },
  {
   "cell_type": "code",
   "execution_count": 432,
   "metadata": {
    "id": "pkqzgjG7IEGP"
   },
   "outputs": [],
   "source": [
    "# Normalize images\n",
    "data_set = data_set.map(lambda x,y: (x/255, y))\n"
   ]
  },
  {
   "cell_type": "code",
   "execution_count": 433,
   "metadata": {
    "id": "WOVFdFmSMmoC"
   },
   "outputs": [],
   "source": [
    "input_shape=(128,128,3)\n",
    "\n",
    "train_size = int(len(data_set)* .7)\n",
    "val_size = int(len(data_set)*.2)+1\n",
    "test_size = int(len(data_set)*.1)+1"
   ]
  },
  {
   "cell_type": "code",
   "execution_count": 434,
   "metadata": {
    "id": "mbfMgfxcM3JB"
   },
   "outputs": [],
   "source": [
    "train = data_set.take(train_size)\n",
    "val = data_set.skip(train_size).take(val_size)\n",
    "test = data_set.skip(train_size + val_size).take(test_size)"
   ]
  },
  {
   "cell_type": "markdown",
   "metadata": {
    "id": "8uAWBF3bxBTi",
    "tags": []
   },
   "source": [
    "## Create Custom Model using Tensorflow"
   ]
  },
  {
   "cell_type": "code",
   "execution_count": 435,
   "metadata": {
    "id": "gkc5ozRCxMmh"
   },
   "outputs": [
    {
     "name": "stdout",
     "output_type": "stream",
     "text": [
      "Model: \"Custom_Model\"\n",
      "_________________________________________________________________\n",
      " Layer (type)                Output Shape              Param #   \n",
      "=================================================================\n",
      " conv2d_9 (Conv2D)           (None, 126, 126, 32)      896       \n",
      "                                                                 \n",
      " max_pooling2d_6 (MaxPooling  (None, 63, 63, 32)       0         \n",
      " 2D)                                                             \n",
      "                                                                 \n",
      " conv2d_10 (Conv2D)          (None, 61, 61, 64)        18496     \n",
      "                                                                 \n",
      " max_pooling2d_7 (MaxPooling  (None, 30, 30, 64)       0         \n",
      " 2D)                                                             \n",
      "                                                                 \n",
      " conv2d_11 (Conv2D)          (None, 28, 28, 64)        36928     \n",
      "                                                                 \n",
      " flatten_9 (Flatten)         (None, 50176)             0         \n",
      "                                                                 \n",
      " dense_32 (Dense)            (None, 64)                3211328   \n",
      "                                                                 \n",
      " dense_33 (Dense)            (None, 19)                1235      \n",
      "                                                                 \n",
      "=================================================================\n",
      "Total params: 3,268,883\n",
      "Trainable params: 3,268,883\n",
      "Non-trainable params: 0\n",
      "_________________________________________________________________\n",
      "Epoch 1/10\n"
     ]
    },
    {
     "name": "stderr",
     "output_type": "stream",
     "text": [
      "2023-06-22 12:17:52.414965: I tensorflow/core/common_runtime/executor.cc:1197] [/device:CPU:0] (DEBUG INFO) Executor start aborting (this does not indicate an error and you can ignore this message): INVALID_ARGUMENT: You must feed a value for placeholder tensor 'Placeholder/_4' with dtype int32 and shape [10073]\n",
      "\t [[{{node Placeholder/_4}}]]\n",
      "2023-06-22 12:17:52.415547: I tensorflow/core/common_runtime/executor.cc:1197] [/device:CPU:0] (DEBUG INFO) Executor start aborting (this does not indicate an error and you can ignore this message): INVALID_ARGUMENT: You must feed a value for placeholder tensor 'Placeholder/_4' with dtype int32 and shape [10073]\n",
      "\t [[{{node Placeholder/_4}}]]\n"
     ]
    },
    {
     "name": "stdout",
     "output_type": "stream",
     "text": [
      "882/882 [==============================] - ETA: 0s - loss: 1.3881 - accuracy: 0.5937"
     ]
    },
    {
     "name": "stderr",
     "output_type": "stream",
     "text": [
      "2023-06-22 12:19:19.163612: I tensorflow/core/common_runtime/executor.cc:1197] [/device:CPU:0] (DEBUG INFO) Executor start aborting (this does not indicate an error and you can ignore this message): INVALID_ARGUMENT: You must feed a value for placeholder tensor 'Placeholder/_0' with dtype string and shape [10073]\n",
      "\t [[{{node Placeholder/_0}}]]\n",
      "2023-06-22 12:19:19.164065: I tensorflow/core/common_runtime/executor.cc:1197] [/device:CPU:0] (DEBUG INFO) Executor start aborting (this does not indicate an error and you can ignore this message): INVALID_ARGUMENT: You must feed a value for placeholder tensor 'Placeholder/_4' with dtype int32 and shape [10073]\n",
      "\t [[{{node Placeholder/_4}}]]\n"
     ]
    },
    {
     "name": "stdout",
     "output_type": "stream",
     "text": [
      "882/882 [==============================] - 94s 105ms/step - loss: 1.3881 - accuracy: 0.5937 - val_loss: 0.5978 - val_accuracy: 0.8211\n",
      "Epoch 2/10\n",
      "882/882 [==============================] - 122s 138ms/step - loss: 0.3551 - accuracy: 0.8914 - val_loss: 0.5874 - val_accuracy: 0.8547\n",
      "Epoch 3/10\n",
      "882/882 [==============================] - 131s 149ms/step - loss: 0.1239 - accuracy: 0.9602 - val_loss: 0.5788 - val_accuracy: 0.8602\n",
      "Epoch 4/10\n",
      "882/882 [==============================] - 116s 131ms/step - loss: 0.0818 - accuracy: 0.9753 - val_loss: 0.7132 - val_accuracy: 0.8582\n",
      "Epoch 5/10\n",
      "882/882 [==============================] - 129s 147ms/step - loss: 0.0684 - accuracy: 0.9797 - val_loss: 0.6617 - val_accuracy: 0.8636\n",
      "Epoch 6/10\n",
      "882/882 [==============================] - 149s 169ms/step - loss: 0.0461 - accuracy: 0.9860 - val_loss: 0.7122 - val_accuracy: 0.8750\n",
      "Epoch 7/10\n",
      "882/882 [==============================] - 147s 166ms/step - loss: 0.0423 - accuracy: 0.9880 - val_loss: 0.7775 - val_accuracy: 0.8646\n",
      "Epoch 8/10\n",
      "882/882 [==============================] - 108s 122ms/step - loss: 0.0308 - accuracy: 0.9919 - val_loss: 0.7323 - val_accuracy: 0.8849\n",
      "Epoch 9/10\n",
      "882/882 [==============================] - 142s 161ms/step - loss: 0.0152 - accuracy: 0.9955 - val_loss: 0.8073 - val_accuracy: 0.8874\n",
      "Epoch 10/10\n",
      "882/882 [==============================] - 116s 131ms/step - loss: 0.0053 - accuracy: 0.9994 - val_loss: 0.8603 - val_accuracy: 0.8888\n"
     ]
    }
   ],
   "source": [
    "tf_model = models.Sequential(name='Custom_Model')\n",
    "\n",
    "# Convolutional base\n",
    "tf_model.add(layers.Conv2D(32, (3, 3), activation='relu', input_shape=input_shape))\n",
    "tf_model.add(layers.MaxPooling2D((2, 2)))\n",
    "tf_model.add(layers.Conv2D(64, (3, 3), activation='relu'))\n",
    "tf_model.add(layers.MaxPooling2D((2, 2)))\n",
    "tf_model.add(layers.Conv2D(64, (3, 3), activation='relu'))\n",
    "\n",
    "# Dense layers\n",
    "tf_model.add(layers.Flatten())\n",
    "tf_model.add(layers.Dense(64, activation='relu'))\n",
    "tf_model.add(layers.Dense(19, activation='softmax'))\n",
    "tf_model.summary()\n",
    "\n",
    "# The summary shows that the convolutional base has a (4, 4, 64) output, which\n",
    "#   is flattened into a (1024) shaped vector, and then sent through two Dense\n",
    "#   layers\n",
    "\n",
    "tf_model.compile(optimizer='adam',\n",
    "              loss=tf.keras.losses.SparseCategoricalCrossentropy(from_logits=True),\n",
    "              metrics=['accuracy'])\n",
    "\n",
    "tf_history = tf_model.fit(train, epochs=10,\n",
    "                    validation_data=val)\n",
    "\n",
    "tf_model.save(os.path.join(os.curdir, 'models', 'tf_model.h5'))"
   ]
  },
  {
   "cell_type": "code",
   "execution_count": 436,
   "metadata": {
    "id": "ci4F0BLbA62T"
   },
   "outputs": [
    {
     "name": "stderr",
     "output_type": "stream",
     "text": [
      "2023-06-22 12:39:47.695654: I tensorflow/core/common_runtime/executor.cc:1197] [/device:CPU:0] (DEBUG INFO) Executor start aborting (this does not indicate an error and you can ignore this message): INVALID_ARGUMENT: You must feed a value for placeholder tensor 'Placeholder/_0' with dtype string and shape [10073]\n",
      "\t [[{{node Placeholder/_0}}]]\n",
      "2023-06-22 12:39:47.696712: I tensorflow/core/common_runtime/executor.cc:1197] [/device:CPU:0] (DEBUG INFO) Executor start aborting (this does not indicate an error and you can ignore this message): INVALID_ARGUMENT: You must feed a value for placeholder tensor 'Placeholder/_0' with dtype string and shape [10073]\n",
      "\t [[{{node Placeholder/_0}}]]\n"
     ]
    },
    {
     "name": "stdout",
     "output_type": "stream",
     "text": [
      "125/125 - 8s - loss: 0.9784 - accuracy: 0.8792 - 8s/epoch - 64ms/step\n"
     ]
    },
    {
     "data": {
      "image/png": "[encoded data removed]",
      "text/plain": [
       "<Figure size 640x480 with 1 Axes>"
      ]
     },
     "metadata": {},
     "output_type": "display_data"
    }
   ],
   "source": [
    "plt.plot(tf_history.history['accuracy'], label='accuracy')\n",
    "plt.plot(tf_history.history['val_accuracy'], label = 'val_accuracy')\n",
    "plt.xlabel('Epoch')\n",
    "plt.ylabel('Accuracy')\n",
    "plt.ylim([0.5, 1])\n",
    "plt.legend(loc='lower right')\n",
    "\n",
    "test_loss, test_acc = tf_model.evaluate(test, verbose=2)"
   ]
  },
  {
   "cell_type": "markdown",
   "metadata": {
    "id": "6jLHDig8hGrS",
    "tags": []
   },
   "source": [
    "## Create Model using Resnet-50"
   ]
  },
  {
   "cell_type": "code",
   "execution_count": 437,
   "metadata": {
    "colab": {
     "base_uri": "https://localhost:8080/"
    },
    "id": "43sdMFwOpo-n",
    "outputId": "a503d55e-3f23-447a-8a1d-eb0b95c8a9dc"
   },
   "outputs": [
    {
     "name": "stdout",
     "output_type": "stream",
     "text": [
      "Found 10073 files belonging to 19 classes.\n",
      "Using 8059 files for training.\n"
     ]
    }
   ],
   "source": [
    "# train_ds = tf.keras.preprocessing.image_dataset_from_directory(\n",
    "#     data_dir, validation_split=0.2, subset=\"training\", seed=123,\n",
    "#     label_mode='categorical', image_size=image_size,\n",
    "#     batch_size=batch_size)"
   ]
  },
  {
   "cell_type": "code",
   "execution_count": 438,
   "metadata": {
    "colab": {
     "base_uri": "https://localhost:8080/"
    },
    "id": "h1BtElvMp_TH",
    "outputId": "41a4645e-2406-48e1-c751-c26860e0cb36"
   },
   "outputs": [
    {
     "name": "stdout",
     "output_type": "stream",
     "text": [
      "Found 10073 files belonging to 19 classes.\n",
      "Using 2014 files for validation.\n"
     ]
    }
   ],
   "source": [
    "# validation_ds = tf.keras.preprocessing.image_dataset_from_directory(\n",
    "#     data_dir, validation_split=0.2, subset=\"validation\", seed=123, \n",
    "#     label_mode='categorical', image_size=image_size,\n",
    "#     batch_size=batch_size)"
   ]
  },
  {
   "cell_type": "code",
   "execution_count": 442,
   "metadata": {
    "id": "nVZLejYThHdq"
   },
   "outputs": [],
   "source": [
    "from tensorflow.keras.optimizers import Adam\n",
    "\n",
    "resnet_model = models.Sequential(name='Resnet_Model')\n",
    "\n",
    "resnet_pretrained_model= tf.keras.applications.ResNet50(include_top=False,\n",
    "\n",
    "                   input_shape=input_shape,\n",
    "\n",
    "                   pooling='max',classes=19,\n",
    "\n",
    "                   weights='imagenet')\n",
    "\n",
    "for each_layer in resnet_pretrained_model.layers:\n",
    "\n",
    "        each_layer.trainable=False\n",
    "\n",
    "resnet_model.add(resnet_pretrained_model)"
   ]
  },
  {
   "cell_type": "code",
   "execution_count": 443,
   "metadata": {
    "id": "oXyHjfHxiWmS"
   },
   "outputs": [],
   "source": [
    "resnet_model.add(layers.Flatten())\n",
    "\n",
    "resnet_model.add(layers.Dense(512, activation='relu'))\n",
    "resnet_model.add(layers.Dense(19, activation='softmax'))"
   ]
  },
  {
   "cell_type": "code",
   "execution_count": 444,
   "metadata": {
    "colab": {
     "base_uri": "https://localhost:8080/"
    },
    "id": "5ocwg282iXPl",
    "outputId": "1ebd728c-b508-4f3a-e3ab-f348046e2a94"
   },
   "outputs": [
    {
     "name": "stdout",
     "output_type": "stream",
     "text": [
      "Epoch 1/10\n",
      "882/882 [==============================] - 275s 308ms/step - loss: 0.9480 - accuracy: 0.7075 - val_loss: 0.6459 - val_accuracy: 0.7856\n",
      "Epoch 2/10\n",
      "882/882 [==============================] - 310s 352ms/step - loss: 0.4671 - accuracy: 0.8508 - val_loss: 0.4571 - val_accuracy: 0.8612\n",
      "Epoch 3/10\n",
      "882/882 [==============================] - 320s 363ms/step - loss: 0.3305 - accuracy: 0.8931 - val_loss: 0.4372 - val_accuracy: 0.8567\n",
      "Epoch 4/10\n",
      "882/882 [==============================] - 250s 283ms/step - loss: 0.2539 - accuracy: 0.9158 - val_loss: 0.3554 - val_accuracy: 0.8869\n",
      "Epoch 5/10\n",
      "882/882 [==============================] - 234s 265ms/step - loss: 0.2157 - accuracy: 0.9296 - val_loss: 0.3634 - val_accuracy: 0.8958\n",
      "Epoch 6/10\n",
      "882/882 [==============================] - 289s 328ms/step - loss: 0.1763 - accuracy: 0.9418 - val_loss: 0.3810 - val_accuracy: 0.8725\n",
      "Epoch 7/10\n",
      "882/882 [==============================] - 224s 254ms/step - loss: 0.1575 - accuracy: 0.9476 - val_loss: 0.4156 - val_accuracy: 0.8854\n",
      "Epoch 8/10\n",
      "882/882 [==============================] - 217s 247ms/step - loss: 0.1432 - accuracy: 0.9527 - val_loss: 0.3264 - val_accuracy: 0.9101\n",
      "Epoch 9/10\n",
      "882/882 [==============================] - 215s 244ms/step - loss: 0.1280 - accuracy: 0.9576 - val_loss: 0.4013 - val_accuracy: 0.8883\n",
      "Epoch 10/10\n",
      "882/882 [==============================] - 218s 247ms/step - loss: 0.1010 - accuracy: 0.9664 - val_loss: 0.3842 - val_accuracy: 0.8982\n"
     ]
    }
   ],
   "source": [
    "resnet_model.compile(optimizer=Adam(learning_rate=0.001),loss=tf.keras.losses.SparseCategoricalCrossentropy(from_logits=True),metrics=['accuracy'])\n",
    "\n",
    "epochs = 10\n",
    "history = resnet_model.fit(train, validation_data=val, epochs=epochs)\n",
    "resnet_model.save(os.path.join(os.curdir, 'models', 'resnet_model.h5'))"
   ]
  },
  {
   "cell_type": "code",
   "execution_count": 445,
   "metadata": {
    "id": "meRo2PWxiY_u"
   },
   "outputs": [
    {
     "data": {
      "text/plain": [
       "<matplotlib.legend.Legend at 0x163f19e50>"
      ]
     },
     "execution_count": 445,
     "metadata": {},
     "output_type": "execute_result"
    },
    {
     "data": {
      "image/png": "[encoded data removed]",
      "text/plain": [
       "<Figure size 800x800 with 1 Axes>"
      ]
     },
     "metadata": {},
     "output_type": "display_data"
    }
   ],
   "source": [
    "plt.figure(figsize=(8, 8))\n",
    "\n",
    "epochs_range= range(epochs)\n",
    "\n",
    "plt.plot( epochs_range, history.history['accuracy'], label=\"Training Accuracy\")\n",
    "\n",
    "plt.plot(epochs_range, history.history['val_accuracy'], label=\"Validation Accuracy\")\n",
    "\n",
    "plt.axis(ymin=0.4,ymax=1)\n",
    "\n",
    "plt.grid()\n",
    "\n",
    "plt.title('Model Accuracy')\n",
    "\n",
    "plt.ylabel('Accuracy')\n",
    "\n",
    "plt.xlabel('Epochs')\n",
    "\n",
    "plt.legend(['train', 'validation'])"
   ]
  },
  {
   "cell_type": "code",
   "execution_count": 446,
   "metadata": {
    "id": "SiBOhhbziax_"
   },
   "outputs": [
    {
     "data": {
      "text/plain": [
       "<Figure size 640x480 with 0 Axes>"
      ]
     },
     "metadata": {},
     "output_type": "display_data"
    }
   ],
   "source": [
    "#plotter_lib.show()\n",
    "\n",
    "plt.savefig('output-plot.png')"
   ]
  },
  {
   "cell_type": "markdown",
   "metadata": {
    "id": "05exxZ78FTOH",
    "tags": []
   },
   "source": [
    "## Create Model using VGG19"
   ]
  },
  {
   "cell_type": "code",
   "execution_count": 447,
   "metadata": {
    "id": "YoNT2YT6FX8n"
   },
   "outputs": [],
   "source": [
    "from tensorflow.keras.applications import VGG19"
   ]
  },
  {
   "cell_type": "code",
   "execution_count": 448,
   "metadata": {
    "id": "tEPnt0EwFdji"
   },
   "outputs": [],
   "source": [
    "vgg19_model = models.Sequential(name='VGG19_Model')\n",
    "\n",
    "vgg19_pretrained_model= tf.keras.applications.VGG19(include_top=False,\n",
    "\n",
    "                   input_shape=input_shape,\n",
    "\n",
    "                   pooling='max',classes=19,\n",
    "\n",
    "                   weights='imagenet')\n",
    "\n",
    "for each_layer in vgg19_pretrained_model.layers:\n",
    "        each_layer.trainable=False\n",
    "\n",
    "vgg19_model.add(vgg19_pretrained_model)"
   ]
  },
  {
   "cell_type": "code",
   "execution_count": 449,
   "metadata": {
    "id": "Amd07fJYKPv2"
   },
   "outputs": [],
   "source": [
    "vgg19_model.add(layers.Flatten())\n",
    "\n",
    "vgg19_model.add(layers.Dense(512, activation='relu'))\n",
    "\n",
    "vgg19_model.add(layers.Dense(19, activation='softmax'))"
   ]
  },
  {
   "cell_type": "code",
   "execution_count": 450,
   "metadata": {
    "id": "sywhMHGQKXf9"
   },
   "outputs": [
    {
     "name": "stdout",
     "output_type": "stream",
     "text": [
      "Epoch 1/8\n",
      "882/882 [==============================] - 623s 705ms/step - loss: 0.5486 - accuracy: 0.8458 - val_loss: 0.2626 - val_accuracy: 0.9249\n",
      "Epoch 2/8\n",
      "882/882 [==============================] - 628s 713ms/step - loss: 0.1733 - accuracy: 0.9449 - val_loss: 0.1275 - val_accuracy: 0.9629\n",
      "Epoch 3/8\n",
      "882/882 [==============================] - 629s 713ms/step - loss: 0.1110 - accuracy: 0.9641 - val_loss: 0.1223 - val_accuracy: 0.9545\n",
      "Epoch 4/8\n",
      "882/882 [==============================] - 629s 712ms/step - loss: 0.0844 - accuracy: 0.9734 - val_loss: 0.0823 - val_accuracy: 0.9778\n",
      "Epoch 5/8\n",
      "882/882 [==============================] - 731s 829ms/step - loss: 0.0638 - accuracy: 0.9796 - val_loss: 0.1105 - val_accuracy: 0.9620\n",
      "Epoch 6/8\n",
      "882/882 [==============================] - 947s 1s/step - loss: 0.0633 - accuracy: 0.9804 - val_loss: 0.0975 - val_accuracy: 0.9704\n",
      "Epoch 7/8\n",
      "882/882 [==============================] - 931s 1s/step - loss: 0.0539 - accuracy: 0.9812 - val_loss: 0.0659 - val_accuracy: 0.9778\n",
      "Epoch 8/8\n",
      "882/882 [==============================] - 930s 1s/step - loss: 0.0428 - accuracy: 0.9870 - val_loss: 0.1151 - val_accuracy: 0.9625\n"
     ]
    }
   ],
   "source": [
    "vgg19_model.compile(optimizer=Adam(learning_rate=0.001),loss=tf.keras.losses.SparseCategoricalCrossentropy(from_logits=True),metrics=['accuracy'])\n",
    "\n",
    "epochs = 8\n",
    "try:\n",
    "  history = vgg19_model.fit(train, validation_data=val, epochs=epochs)\n",
    "except Exception as e: print(e)\n",
    "\n",
    "vgg19_model.save(os.path.join(os.curdir, 'models', 'vgg19_model.h5'))"
   ]
  },
  {
   "cell_type": "code",
   "execution_count": 451,
   "metadata": {
    "id": "R_yb_-_GUCna"
   },
   "outputs": [
    {
     "data": {
      "text/plain": [
       "<matplotlib.legend.Legend at 0x167ebf910>"
      ]
     },
     "execution_count": 451,
     "metadata": {},
     "output_type": "execute_result"
    },
    {
     "data": {
      "image/png": "[encoded data removed]",
      "text/plain": [
       "<Figure size 800x800 with 1 Axes>"
      ]
     },
     "metadata": {},
     "output_type": "display_data"
    }
   ],
   "source": [
    "# Test\n",
    "\n",
    "plt.figure(figsize=(8, 8))\n",
    "\n",
    "epochs_range= range(epochs)\n",
    "\n",
    "plt.plot( epochs_range, history.history['accuracy'], label=\"Training Accuracy\")\n",
    "\n",
    "plt.plot(epochs_range, history.history['val_accuracy'], label=\"Validation Accuracy\")\n",
    "\n",
    "plt.axis(ymin=0.4,ymax=1)\n",
    "\n",
    "plt.grid()\n",
    "\n",
    "plt.title('Model Accuracy')\n",
    "\n",
    "plt.ylabel('Accuracy')\n",
    "\n",
    "plt.xlabel('Epochs')\n",
    "\n",
    "plt.legend(['train', 'validation'])"
   ]
  },
  {
   "cell_type": "markdown",
   "metadata": {
    "id": "v5fjuSxMCglJ",
    "tags": []
   },
   "source": [
    "## Create Model using MobileNet"
   ]
  },
  {
   "cell_type": "code",
   "execution_count": 452,
   "metadata": {
    "id": "yHkMzA0qCyHJ"
   },
   "outputs": [],
   "source": [
    "from tensorflow.keras.applications import MobileNetV2"
   ]
  },
  {
   "cell_type": "code",
   "execution_count": 453,
   "metadata": {
    "tags": []
   },
   "outputs": [],
   "source": [
    "mobilenet_model = models.Sequential(name='MobileNet_Model')\n",
    "mobilenet_pretrained_model = tf.keras.applications.MobileNetV2(include_top=False,\n",
    "\n",
    "                   input_shape=input_shape,\n",
    "\n",
    "                   pooling='max',classes=19,\n",
    "\n",
    "                   weights='imagenet')\n",
    "\n",
    "for each_layer in mobilenet_pretrained_model.layers:\n",
    "        each_layer.trainable=False\n",
    "\n",
    "mobilenet_model.add(mobilenet_pretrained_model)"
   ]
  },
  {
   "cell_type": "code",
   "execution_count": 454,
   "metadata": {},
   "outputs": [],
   "source": [
    "mobilenet_model.add(layers.Flatten())\n",
    "\n",
    "mobilenet_model.add(layers.Dense(512, activation='relu'))\n",
    "\n",
    "mobilenet_model.add(layers.Dense(19, activation='softmax'))"
   ]
  },
  {
   "cell_type": "code",
   "execution_count": 455,
   "metadata": {},
   "outputs": [
    {
     "name": "stdout",
     "output_type": "stream",
     "text": [
      "Epoch 1/8\n",
      "882/882 [==============================] - 156s 164ms/step - loss: 0.4552 - accuracy: 0.8819 - val_loss: 0.2488 - val_accuracy: 0.9195\n",
      "Epoch 2/8\n",
      "882/882 [==============================] - 82s 93ms/step - loss: 0.1406 - accuracy: 0.9575 - val_loss: 0.1004 - val_accuracy: 0.9679\n",
      "Epoch 3/8\n",
      "882/882 [==============================] - 111s 126ms/step - loss: 0.0914 - accuracy: 0.9731 - val_loss: 0.0672 - val_accuracy: 0.9788\n",
      "Epoch 4/8\n",
      "882/882 [==============================] - 78s 89ms/step - loss: 0.0822 - accuracy: 0.9762 - val_loss: 0.1331 - val_accuracy: 0.9590\n",
      "Epoch 5/8\n",
      "882/882 [==============================] - 71s 81ms/step - loss: 0.0935 - accuracy: 0.9715 - val_loss: 0.1243 - val_accuracy: 0.9689\n",
      "Epoch 6/8\n",
      "882/882 [==============================] - 76s 86ms/step - loss: 0.0555 - accuracy: 0.9831 - val_loss: 0.1153 - val_accuracy: 0.9723\n",
      "Epoch 7/8\n",
      "882/882 [==============================] - 74s 84ms/step - loss: 0.0630 - accuracy: 0.9821 - val_loss: 0.1600 - val_accuracy: 0.9629\n",
      "Epoch 8/8\n",
      "882/882 [==============================] - 71s 81ms/step - loss: 0.0506 - accuracy: 0.9874 - val_loss: 0.0972 - val_accuracy: 0.9743\n"
     ]
    }
   ],
   "source": [
    "mobilenet_model.compile(optimizer=Adam(learning_rate=0.001),loss=tf.keras.losses.SparseCategoricalCrossentropy(from_logits=True),metrics=['accuracy'])\n",
    "\n",
    "epochs = 8\n",
    "try:\n",
    "  history = mobilenet_model.fit(train, validation_data=val, epochs=epochs)\n",
    "except Exception as e: print(e)\n",
    "mobilenet_model.save(os.path.join(os.curdir, 'models', 'mobilenet_model.h5'))"
   ]
  },
  {
   "cell_type": "code",
   "execution_count": 456,
   "metadata": {},
   "outputs": [
    {
     "data": {
      "text/plain": [
       "<matplotlib.legend.Legend at 0x167d14790>"
      ]
     },
     "execution_count": 456,
     "metadata": {},
     "output_type": "execute_result"
    },
    {
     "data": {
      "image/png": "[encoded data removed]",
      "text/plain": [
       "<Figure size 800x800 with 1 Axes>"
      ]
     },
     "metadata": {},
     "output_type": "display_data"
    }
   ],
   "source": [
    "# Test\n",
    "\n",
    "plt.figure(figsize=(8, 8))\n",
    "\n",
    "epochs_range= range(epochs)\n",
    "\n",
    "plt.plot(epochs_range, history.history['accuracy'], label=\"Training Accuracy\")\n",
    "\n",
    "plt.plot(epochs_range, history.history['val_accuracy'], label=\"Validation Accuracy\")\n",
    "\n",
    "plt.axis(ymin=0.4,ymax=1)\n",
    "\n",
    "plt.grid()\n",
    "\n",
    "plt.title('Model Accuracy')\n",
    "\n",
    "plt.ylabel('Accuracy')\n",
    "\n",
    "plt.xlabel('Epochs')\n",
    "\n",
    "plt.legend(['train', 'validation'])"
   ]
  },
  {
   "cell_type": "markdown",
   "metadata": {},
   "source": [
    "## Ensemble"
   ]
  },
  {
   "cell_type": "code",
   "execution_count": 496,
   "metadata": {},
   "outputs": [],
   "source": [
    "# Now we can ensemble our 4 models to improve our performance.\n",
    "# We will use the weighted average method to ensemble the models.\n",
    "def weighted_init(shape= input_shape, weights = [0.25,0.25,0.25,0.25], dtype = tf.float32):\n",
    "    return tf.constant(np.array(weights).reshape(shape), dtype = dtype)"
   ]
  },
  {
   "cell_type": "code",
   "execution_count": 497,
   "metadata": {},
   "outputs": [],
   "source": [
    "# class WeightedAverageLayer(layers.Layer):\n",
    "#     def __init__(self, weights):\n",
    "#         super(WeightedAverageLayer, self).__init__()\n",
    "#         self.weights = weights\n",
    "        \n",
    "# #     def build(self, input_shape):\n",
    "        \n",
    "# #         self.W = self.add_weight(\n",
    "# #             shape=(1,1,len(input_shape)),\n",
    "# #             initializer=weighted_init,\n",
    "# #             dtype=tf.float32,\n",
    "# #             trainable=True)\n",
    "        \n",
    "#     def call(self, inputs):\n",
    "#         inputs = [tf.expand_dims(i, -1) for i in inputs]\n",
    "#         inputs = layers.Concatenate(axis=-1)(inputs)\n",
    "#         weights = tf.nn.softmax(self.W, axis=-1)\n",
    "        \n",
    "#         return tf.reduce_mean(weights*inputs, axis=-1)"
   ]
  },
  {
   "cell_type": "code",
   "execution_count": 498,
   "metadata": {},
   "outputs": [],
   "source": [
    "class WeightedAverage(layers.Layer):\n",
    "    def __init__(self):\n",
    "        super(WeightedAverage, self).__init__()\n",
    "    \n",
    "    def build(self, input_shape):\n",
    "        \n",
    "        self.W = self.add_weight(\n",
    "            shape=(1,1,len(input_shape)),\n",
    "            initializer=weighted_init,\n",
    "            dtype=tf.float32,\n",
    "            trainable=True)\n",
    "        \n",
    "    def call(self, inputs):\n",
    "        inputs = [tf.expand_dims(i, -1) for i in inputs]\n",
    "        inputs = layers.Concatenate(axis=-1)(inputs)\n",
    "        weights = tf.nn.softmax(self.W, axis=-1)\n",
    "        \n",
    "        return tf.reduce_mean(weights*inputs, axis=-1)"
   ]
  },
  {
   "cell_type": "code",
   "execution_count": 499,
   "metadata": {},
   "outputs": [],
   "source": [
    "# Load trained models from file system\n",
    "tf_model_path = os.path.join(os.curdir, 'models', 'tf_model.h5')\n",
    "resnet_model_path = os.path.join(os.curdir, 'models', 'resnet_model.h5')\n",
    "vgg19_model_path = os.path.join(os.curdir, 'models', 'vgg19_model.h5')\n",
    "mobilenet_model_path = os.path.join(os.curdir, 'models', 'mobilenet_model.h5')\n",
    "\n",
    "models = [models.load_model(tf_model_path),\n",
    "          models.load_model(resnet_model_path),\n",
    "          models.load_model(vgg19_model_path),\n",
    "          models.load_model(mobilenet_model_path)]"
   ]
  },
  {
   "cell_type": "code",
   "execution_count": 500,
   "metadata": {},
   "outputs": [
    {
     "name": "stdout",
     "output_type": "stream",
     "text": [
      "KerasTensor(type_spec=TensorSpec(shape=(None, 128, 128, 3), dtype=tf.float32, name='input'), name='input', description=\"created by layer 'input'\")\n",
      "[<KerasTensor: shape=(None, 19) dtype=float32 (created by layer 'Custom_Model')>, <KerasTensor: shape=(None, 19) dtype=float32 (created by layer 'Resnet_Model')>, <KerasTensor: shape=(None, 19) dtype=float32 (created by layer 'VGG19_Model')>, <KerasTensor: shape=(None, 19) dtype=float32 (created by layer 'MobileNet_Model')>]\n",
      "KerasTensor(type_spec=TensorSpec(shape=(None, 19), dtype=tf.float32, name=None), name='dense_45/Softmax:0', description=\"created by layer 'dense_45'\")\n"
     ]
    }
   ],
   "source": [
    "# Create the model\n",
    "input = layers.Input(shape=input_shape, name='input')\n",
    "print(input)\n",
    "outputs = [model(input) for model in models]\n",
    "print(outputs)\n",
    "x = WeightedAverage()(outputs)\n",
    "\n",
    "output = layers.Dense(19, activation='softmax')(x)\n",
    "\n",
    "weighted_avg_model = tf.keras.Model(input, output, name= 'Weighted_Average_Model')\n",
    "print(output)"
   ]
  },
  {
   "cell_type": "code",
   "execution_count": 501,
   "metadata": {},
   "outputs": [
    {
     "data": {
      "image/png": "[encoded data removed]",
      "text/plain": [
       "<Figure size 640x480 with 1 Axes>"
      ]
     },
     "metadata": {},
     "output_type": "display_data"
    }
   ],
   "source": [
    "# Tree Diagram of weighted average model\n",
    "tf.keras.utils.plot_model(weighted_avg_model)\n",
    "plt.axis('off')\n",
    "weighted_avg_model_img_path = os.path.join(os.curdir, 'model.png')\n",
    "weighted_avg_model_img = np.asarray(Image.open(weighted_avg_model_img_path))\n",
    "imgplot = plt.imshow(weighted_avg_model_img)"
   ]
  },
  {
   "cell_type": "code",
   "execution_count": 502,
   "metadata": {},
   "outputs": [
    {
     "name": "stdout",
     "output_type": "stream",
     "text": [
      "WARNING:tensorflow:Compiled the loaded model, but the compiled metrics have yet to be built. `model.compile_metrics` will be empty until you train or evaluate the model.\n"
     ]
    }
   ],
   "source": [
    "weighted_avg_model.save(os.path.join(os.curdir, 'models', 'weighted_avg_model.h5'))"
   ]
  },
  {
   "cell_type": "code",
   "execution_count": 503,
   "metadata": {},
   "outputs": [
    {
     "data": {
      "text/plain": [
       "<matplotlib.image.AxesImage at 0x166cd0050>"
      ]
     },
     "execution_count": 503,
     "metadata": {},
     "output_type": "execute_result"
    },
    {
     "data": {
      "image/png": "[encoded data removed]",
      "text/plain": [
       "<Figure size 640x480 with 1 Axes>"
      ]
     },
     "metadata": {},
     "output_type": "display_data"
    }
   ],
   "source": [
    "# Testing the ensemble model\n",
    "\n",
    "iterator = test.__iter__()\n",
    "current = iterator.get_next()\n",
    "plt.imshow(current[0][0])"
   ]
  },
  {
   "cell_type": "code",
   "execution_count": 504,
   "metadata": {},
   "outputs": [
    {
     "name": "stdout",
     "output_type": "stream",
     "text": [
      "1/1 [==============================] - 3s 3s/step\n",
      "[0.05462653 0.05271557 0.05570076 0.05340546 0.05451339 0.05256923\n",
      " 0.05001037 0.05096632 0.05184191 0.04991775 0.0533425  0.05026171\n",
      " 0.05039943 0.05614442 0.05631813 0.05190915 0.05267002 0.04979708\n",
      " 0.05289032]\n"
     ]
    }
   ],
   "source": [
    "weighted_avg_model_prediction = weighted_avg_model.predict(current[0])\n",
    "print(weighted_avg_model_prediction[0])"
   ]
  },
  {
   "cell_type": "code",
   "execution_count": 465,
   "metadata": {},
   "outputs": [
    {
     "name": "stdout",
     "output_type": "stream",
     "text": [
      "1/1 [==============================] - 0s 124ms/step\n",
      "[2.2777829e-18 1.8293610e-28 5.3484357e-14 1.2203024e-11 1.2976825e-19\n",
      " 3.7905857e-13 1.2787352e-17 5.0010943e-16 3.2900365e-23 1.1366054e-26\n",
      " 8.4055545e-19 5.3121835e-13 4.6838414e-12 1.0000000e+00 4.2439163e-14\n",
      " 2.7460698e-10 8.2704148e-18 2.6375478e-28 9.4516235e-09]\n"
     ]
    }
   ],
   "source": [
    "tf_model_path = os.path.join(os.curdir, 'models', 'tf_model.h5')\n",
    "tf_model = tf.keras.models.load_model(tf_model_path)\n",
    "tf_model_prediction = tf_model.predict(current[0])\n",
    "print(tf_model_prediction[0])"
   ]
  },
  {
   "cell_type": "code",
   "execution_count": 466,
   "metadata": {},
   "outputs": [
    {
     "name": "stdout",
     "output_type": "stream",
     "text": [
      "1/1 [==============================] - 1s 1s/step\n",
      "[1.2027555e-06 2.2684115e-09 5.6961118e-03 2.1089947e-02 8.0208583e-06\n",
      " 5.8347119e-05 4.3657150e-05 7.4651198e-06 1.7632852e-08 4.3826512e-07\n",
      " 5.4946418e-06 6.6881289e-10 7.2285836e-03 9.6092612e-01 4.5638318e-10\n",
      " 7.4593899e-08 2.9711928e-06 7.7911046e-11 4.9315533e-03]\n"
     ]
    }
   ],
   "source": [
    "resnet_model_path = os.path.join(os.curdir, 'models', 'resnet_model.h5')\n",
    "resnet_model = tf.keras.models.load_model(resnet_model2_path)\n",
    "resnet_model_prediction = resnet_model.predict(current[0])\n",
    "print(resnet_model_prediction[0])"
   ]
  },
  {
   "cell_type": "code",
   "execution_count": 467,
   "metadata": {},
   "outputs": [
    {
     "name": "stdout",
     "output_type": "stream",
     "text": [
      "1/1 [==============================] - 1s 578ms/step\n",
      "[3.48397156e-09 6.80344492e-09 2.79053551e-04 1.43655343e-05\n",
      " 3.30436549e-08 9.95602477e-07 4.09795788e-08 1.07473506e-05\n",
      " 1.07058273e-09 3.41224943e-12 1.31972465e-05 1.51293762e-05\n",
      " 2.87388533e-01 7.02274561e-01 4.46707929e-07 2.60215555e-03\n",
      " 2.49122309e-06 6.15148710e-10 7.39826681e-03]\n"
     ]
    }
   ],
   "source": [
    "vgg19_model_path = os.path.join(os.curdir, 'models', 'vgg19_model.h5')\n",
    "vgg19_model = tf.keras.models.load_model(vgg19_model_path)\n",
    "vgg19_model_prediction = vgg19_model.predict(current[0])\n",
    "print(vgg19_model_prediction[0])"
   ]
  },
  {
   "cell_type": "code",
   "execution_count": 468,
   "metadata": {},
   "outputs": [
    {
     "name": "stdout",
     "output_type": "stream",
     "text": [
      "1/1 [==============================] - 1s 1s/step\n",
      "[1.5975846e-11 4.2222501e-07 7.1760742e-03 3.3778210e-06 6.9818117e-07\n",
      " 1.2400087e-08 3.1469355e-08 3.1819623e-02 1.8339332e-11 2.1127850e-04\n",
      " 2.8970184e-09 9.0235859e-13 6.5385548e-06 9.6077782e-01 2.3003137e-09\n",
      " 6.0280092e-07 7.2304757e-10 3.2315670e-13 3.6013137e-06]\n"
     ]
    }
   ],
   "source": [
    "mobilenet_model_path = os.path.join(os.curdir, 'models', 'mobilenet_model.h5')\n",
    "mobilenet_model = tf.keras.models.load_model(mobilenet_model_path)\n",
    "mobilenet_model_prediction = mobilenet_model.predict(current[0])\n",
    "print(mobilenet_model_prediction[0])"
   ]
  },
  {
   "cell_type": "code",
   "execution_count": 469,
   "metadata": {},
   "outputs": [
    {
     "name": "stdout",
     "output_type": "stream",
     "text": [
      "125/125 [==============================] - 4s 20ms/step - loss: 1.0100 - accuracy: 0.8781\n"
     ]
    },
    {
     "data": {
      "text/plain": [
       "[1.0100042819976807, 0.8781470060348511]"
      ]
     },
     "execution_count": 469,
     "metadata": {},
     "output_type": "execute_result"
    }
   ],
   "source": [
    "tf_model.evaluate(test)"
   ]
  },
  {
   "cell_type": "code",
   "execution_count": 474,
   "metadata": {},
   "outputs": [
    {
     "name": "stdout",
     "output_type": "stream",
     "text": [
      "125/125 [==============================] - 7s 41ms/step - loss: 0.1032 - accuracy: 0.9748\n",
      "125/125 [==============================] - 20s 140ms/step - loss: 0.3795 - accuracy: 0.8852\n",
      "125/125 [==============================] - 140s 1s/step - loss: 0.0713 - accuracy: 0.9768\n"
     ]
    },
    {
     "data": {
      "text/plain": [
       "[0.07127068191766739, 0.9768378734588623]"
      ]
     },
     "execution_count": 474,
     "metadata": {},
     "output_type": "execute_result"
    }
   ],
   "source": [
    "mobilenet_model.evaluate(test)\n",
    "resnet_model.evaluate(test)\n",
    "vgg19_model.evaluate(test)"
   ]
  },
  {
   "cell_type": "code",
   "execution_count": null,
   "metadata": {},
   "outputs": [],
   "source": []
  }
 ],
 "metadata": {
  "colab": {
   "collapsed_sections": [
    "aWp7X9UPJgHW",
    "8uAWBF3bxBTi",
    "v5fjuSxMCglJ"
   ],
   "provenance": [],
   "toc_visible": true
  },
  "kernelspec": {
   "display_name": "Python 3 (ipykernel)",
   "language": "python",
   "name": "python3"
  },
  "language_info": {
   "codemirror_mode": {
    "name": "ipython",
    "version": 3
   },
   "file_extension": ".py",
   "mimetype": "text/x-python",
   "name": "python",
   "nbconvert_exporter": "python",
   "pygments_lexer": "ipython3",
   "version": "3.11.3"
  },
  "toc-autonumbering": false,
  "toc-showmarkdowntxt": true,
  "toc-showtags": false
 },
 "nbformat": 4,
 "nbformat_minor": 4
}
