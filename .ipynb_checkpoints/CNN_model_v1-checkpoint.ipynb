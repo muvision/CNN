{
 "cells": [
  {
   "cell_type": "markdown",
   "metadata": {
    "id": "C_DPTxoJF_lV",
    "tags": []
   },
   "source": [
    "## Import dependencies"
   ]
  },
  {
   "cell_type": "code",
   "execution_count": 24,
   "metadata": {
    "colab": {
     "base_uri": "https://localhost:8080/"
    },
    "id": "yYUJZtAE7pmq",
    "outputId": "d660cbf8-e3f1-4aa6-bd1d-2cd593667585"
   },
   "outputs": [
    {
     "name": "stdout",
     "output_type": "stream",
     "text": [
      "Requirement already satisfied: opendatasets in /Users/jpolina/anaconda3/envs/tf/lib/python3.11/site-packages (0.1.22)\n",
      "Requirement already satisfied: tqdm in /Users/jpolina/anaconda3/envs/tf/lib/python3.11/site-packages (from opendatasets) (4.65.0)\n",
      "Requirement already satisfied: kaggle in /Users/jpolina/anaconda3/envs/tf/lib/python3.11/site-packages (from opendatasets) (1.5.13)\n",
      "Requirement already satisfied: click in /Users/jpolina/anaconda3/envs/tf/lib/python3.11/site-packages (from opendatasets) (8.0.4)\n",
      "Requirement already satisfied: six>=1.10 in /Users/jpolina/anaconda3/envs/tf/lib/python3.11/site-packages (from kaggle->opendatasets) (1.16.0)\n",
      "Requirement already satisfied: certifi in /Users/jpolina/anaconda3/envs/tf/lib/python3.11/site-packages (from kaggle->opendatasets) (2023.5.7)\n",
      "Requirement already satisfied: python-dateutil in /Users/jpolina/anaconda3/envs/tf/lib/python3.11/site-packages (from kaggle->opendatasets) (2.8.2)\n",
      "Requirement already satisfied: requests in /Users/jpolina/anaconda3/envs/tf/lib/python3.11/site-packages (from kaggle->opendatasets) (2.29.0)\n",
      "Requirement already satisfied: python-slugify in /Users/jpolina/anaconda3/envs/tf/lib/python3.11/site-packages (from kaggle->opendatasets) (8.0.1)\n",
      "Requirement already satisfied: urllib3 in /Users/jpolina/anaconda3/envs/tf/lib/python3.11/site-packages (from kaggle->opendatasets) (1.26.16)\n",
      "Requirement already satisfied: text-unidecode>=1.3 in /Users/jpolina/anaconda3/envs/tf/lib/python3.11/site-packages (from python-slugify->kaggle->opendatasets) (1.3)\n",
      "Requirement already satisfied: charset-normalizer<4,>=2 in /Users/jpolina/anaconda3/envs/tf/lib/python3.11/site-packages (from requests->kaggle->opendatasets) (2.0.4)\n",
      "Requirement already satisfied: idna<4,>=2.5 in /Users/jpolina/anaconda3/envs/tf/lib/python3.11/site-packages (from requests->kaggle->opendatasets) (3.4)\n",
      "Requirement already satisfied: pandas in /Users/jpolina/anaconda3/envs/tf/lib/python3.11/site-packages (2.0.2)\n",
      "Requirement already satisfied: python-dateutil>=2.8.2 in /Users/jpolina/anaconda3/envs/tf/lib/python3.11/site-packages (from pandas) (2.8.2)\n",
      "Requirement already satisfied: pytz>=2020.1 in /Users/jpolina/anaconda3/envs/tf/lib/python3.11/site-packages (from pandas) (2022.7)\n",
      "Requirement already satisfied: tzdata>=2022.1 in /Users/jpolina/anaconda3/envs/tf/lib/python3.11/site-packages (from pandas) (2023.3)\n",
      "Requirement already satisfied: numpy>=1.21.0 in /Users/jpolina/anaconda3/envs/tf/lib/python3.11/site-packages (from pandas) (1.23.5)\n",
      "Requirement already satisfied: six>=1.5 in /Users/jpolina/anaconda3/envs/tf/lib/python3.11/site-packages (from python-dateutil>=2.8.2->pandas) (1.16.0)\n"
     ]
    }
   ],
   "source": [
    "!pip install opendatasets\n",
    "!pip install pandas\n",
    "import tensorflow as tf\n",
    "import opendatasets as od\n",
    "import pandas as pd\n",
    "import numpy as np\n",
    "import cv2 as cv\n",
    "from tensorflow.keras import datasets, layers, models\n",
    "from tensorflow.keras.models import load_model\n",
    "import matplotlib.pyplot as plt\n",
    "import os\n",
    "from PIL import Image"
   ]
  },
  {
   "cell_type": "code",
   "execution_count": 2,
   "metadata": {
    "id": "YOANaXd38oyz"
   },
   "outputs": [],
   "source": [
    "# Download the dataset from the Kaggle API\n",
    "# od.download('https://www.kaggle.com/datasets/sagyamthapa/handwritten-math-symbols', force=True)"
   ]
  },
  {
   "cell_type": "markdown",
   "metadata": {
    "id": "aWp7X9UPJgHW",
    "tags": []
   },
   "source": [
    "## Preprocess the Colors\n"
   ]
  },
  {
   "cell_type": "code",
   "execution_count": 3,
   "metadata": {
    "colab": {
     "base_uri": "https://localhost:8080/",
     "height": 0
    },
    "id": "yLPtqNmMHSAb",
    "outputId": "fe1b72db-b0ce-4e0b-a6a4-f9f069707617"
   },
   "outputs": [
    {
     "name": "stdout",
     "output_type": "stream",
     "text": [
      "array([[[255, 255, 255],\n",
      "        [255, 255, 255],\n",
      "        [255, 255, 255],\n",
      "        ...,\n",
      "        [255, 255, 255],\n",
      "        [255, 255, 255],\n",
      "        [255, 255, 255]],\n",
      "\n",
      "       [[255, 255, 255],\n",
      "        [255, 255, 255],\n",
      "        [255, 255, 255],\n",
      "        ...,\n",
      "        [255, 255, 255],\n",
      "        [255, 255, 255],\n",
      "        [255, 255, 255]],\n",
      "\n",
      "       [[255, 255, 255],\n",
      "        [255, 255, 255],\n",
      "        [255, 255, 255],\n",
      "        ...,\n",
      "        [255, 255, 255],\n",
      "        [255, 255, 255],\n",
      "        [255, 255, 255]],\n",
      "\n",
      "       ...,\n",
      "\n",
      "       [[255, 255, 255],\n",
      "        [255, 255, 255],\n",
      "        [255, 255, 255],\n",
      "        ...,\n",
      "        [255, 255, 255],\n",
      "        [255, 255, 255],\n",
      "        [255, 255, 255]],\n",
      "\n",
      "       [[255, 255, 255],\n",
      "        [255, 255, 255],\n",
      "        [255, 255, 255],\n",
      "        ...,\n",
      "        [255, 255, 255],\n",
      "        [255, 255, 255],\n",
      "        [255, 255, 255]],\n",
      "\n",
      "       [[255, 255, 255],\n",
      "        [255, 255, 255],\n",
      "        [255, 255, 255],\n",
      "        ...,\n",
      "        [255, 255, 255],\n",
      "        [255, 255, 255],\n",
      "        [255, 255, 255]]], dtype=uint8)\n",
      "(400, 400, 3)\n"
     ]
    },
    {
     "data": {
      "image/png": "[encoded data removed]",
      "text/plain": [
       "<Figure size 640x480 with 1 Axes>"
      ]
     },
     "metadata": {},
     "output_type": "display_data"
    }
   ],
   "source": [
    "sample_img_path = os.path.join(os.curdir, 'handwritten-math-symbols', 'dataset', '0', '0CdBlhLw.png')\n",
    "img = np.asarray(Image.open(sample_img_path))\n",
    "imgplot = plt.imshow(img)\n",
    "print(repr(img))\n",
    "print(img.shape)"
   ]
  },
  {
   "cell_type": "code",
   "execution_count": 4,
   "metadata": {
    "id": "QEMHxizrKRLu"
   },
   "outputs": [],
   "source": [
    "# Convert from CMYK to Gray scale\n",
    "data_dir = os.path.join(os.curdir, 'handwritten-math-symbols', 'dataset')\n",
    "\n",
    "for image_class in os.listdir(data_dir):\n",
    "  if image_class.startswith('.'):\n",
    "    continue\n",
    "  for image in os.listdir(os.path.join(data_dir, image_class)):\n",
    "    try:\n",
    "      image_path = os.path.join(data_dir, image_class, image)\n",
    "      image = cv.imread(image_path)\n",
    "      grayImage = cv.cvtColor(image, cv.COLOR_RGBA2RGB)\n",
    "      cv.imwrite(image_path, grayImage)\n",
    "    except:\n",
    "      continue"
   ]
  },
  {
   "cell_type": "code",
   "execution_count": 5,
   "metadata": {
    "colab": {
     "base_uri": "https://localhost:8080/",
     "height": 0
    },
    "id": "GxVjwaXZWqMS",
    "outputId": "5cfb6f73-a1f4-4f54-8cbb-0029235daf53"
   },
   "outputs": [
    {
     "name": "stdout",
     "output_type": "stream",
     "text": [
      "array([[[255, 255, 255],\n",
      "        [255, 255, 255],\n",
      "        [255, 255, 255],\n",
      "        ...,\n",
      "        [255, 255, 255],\n",
      "        [255, 255, 255],\n",
      "        [255, 255, 255]],\n",
      "\n",
      "       [[255, 255, 255],\n",
      "        [255, 255, 255],\n",
      "        [255, 255, 255],\n",
      "        ...,\n",
      "        [255, 255, 255],\n",
      "        [255, 255, 255],\n",
      "        [255, 255, 255]],\n",
      "\n",
      "       [[255, 255, 255],\n",
      "        [255, 255, 255],\n",
      "        [255, 255, 255],\n",
      "        ...,\n",
      "        [255, 255, 255],\n",
      "        [255, 255, 255],\n",
      "        [255, 255, 255]],\n",
      "\n",
      "       ...,\n",
      "\n",
      "       [[255, 255, 255],\n",
      "        [255, 255, 255],\n",
      "        [255, 255, 255],\n",
      "        ...,\n",
      "        [255, 255, 255],\n",
      "        [255, 255, 255],\n",
      "        [255, 255, 255]],\n",
      "\n",
      "       [[255, 255, 255],\n",
      "        [255, 255, 255],\n",
      "        [255, 255, 255],\n",
      "        ...,\n",
      "        [255, 255, 255],\n",
      "        [255, 255, 255],\n",
      "        [255, 255, 255]],\n",
      "\n",
      "       [[255, 255, 255],\n",
      "        [255, 255, 255],\n",
      "        [255, 255, 255],\n",
      "        ...,\n",
      "        [255, 255, 255],\n",
      "        [255, 255, 255],\n",
      "        [255, 255, 255]]], dtype=uint8)\n",
      "(400, 400, 3)\n"
     ]
    },
    {
     "data": {
      "image/png": "[encoded data removed]",
      "text/plain": [
       "<Figure size 640x480 with 1 Axes>"
      ]
     },
     "metadata": {},
     "output_type": "display_data"
    }
   ],
   "source": [
    "img = np.asarray(Image.open(sample_img_path))\n",
    "imgplot = plt.imshow(img)\n",
    "print(repr(img))\n",
    "print(img.shape)"
   ]
  },
  {
   "cell_type": "code",
   "execution_count": 6,
   "metadata": {
    "colab": {
     "base_uri": "https://localhost:8080/"
    },
    "id": "fJbNBW8LFXA3",
    "outputId": "0d630fca-45b5-45ba-be0a-75cb84b50491"
   },
   "outputs": [
    {
     "name": "stdout",
     "output_type": "stream",
     "text": [
      "Found 10071 files belonging to 19 classes.\n"
     ]
    }
   ],
   "source": [
    "batch_size = 8\n",
    "image_size = (32,32)\n",
    "data_set = tf.keras.utils.image_dataset_from_directory(data_dir, batch_size = batch_size, image_size = image_size)"
   ]
  },
  {
   "cell_type": "code",
   "execution_count": 7,
   "metadata": {
    "colab": {
     "base_uri": "https://localhost:8080/"
    },
    "id": "ZzzNJdvGHtnF",
    "outputId": "741b4fa0-6013-4833-df0b-0caa27a89fb3"
   },
   "outputs": [
    {
     "name": "stdout",
     "output_type": "stream",
     "text": [
      "array([[[255, 255, 255],\n",
      "        [255, 255, 255],\n",
      "        [255, 255, 255],\n",
      "        ...,\n",
      "        [255, 255, 255],\n",
      "        [255, 255, 255],\n",
      "        [255, 255, 255]],\n",
      "\n",
      "       [[255, 255, 255],\n",
      "        [255, 255, 255],\n",
      "        [255, 255, 255],\n",
      "        ...,\n",
      "        [255, 255, 255],\n",
      "        [255, 255, 255],\n",
      "        [255, 255, 255]],\n",
      "\n",
      "       [[255, 255, 255],\n",
      "        [255, 255, 255],\n",
      "        [255, 255, 255],\n",
      "        ...,\n",
      "        [255, 255, 255],\n",
      "        [255, 255, 255],\n",
      "        [255, 255, 255]],\n",
      "\n",
      "       ...,\n",
      "\n",
      "       [[255, 255, 255],\n",
      "        [255, 255, 255],\n",
      "        [255, 255, 255],\n",
      "        ...,\n",
      "        [255, 255, 255],\n",
      "        [255, 255, 255],\n",
      "        [255, 255, 255]],\n",
      "\n",
      "       [[255, 255, 255],\n",
      "        [255, 255, 255],\n",
      "        [255, 255, 255],\n",
      "        ...,\n",
      "        [255, 255, 255],\n",
      "        [255, 255, 255],\n",
      "        [255, 255, 255]],\n",
      "\n",
      "       [[255, 255, 255],\n",
      "        [255, 255, 255],\n",
      "        [255, 255, 255],\n",
      "        ...,\n",
      "        [255, 255, 255],\n",
      "        [255, 255, 255],\n",
      "        [255, 255, 255]]], dtype=uint8)\n",
      "(400, 400, 3)\n"
     ]
    }
   ],
   "source": [
    "print(repr(img))\n",
    "print(img.shape)"
   ]
  },
  {
   "cell_type": "markdown",
   "metadata": {
    "id": "y4yTIBDOJvMk",
    "tags": []
   },
   "source": [
    "## Preprocess data set"
   ]
  },
  {
   "cell_type": "code",
   "execution_count": 8,
   "metadata": {
    "colab": {
     "base_uri": "https://localhost:8080/"
    },
    "id": "F12eza_fcJa7",
    "outputId": "dfe5d9fd-3c82-46b6-b8f0-1aa74e852285"
   },
   "outputs": [
    {
     "data": {
      "text/plain": [
       "array([[[1., 1., 1.],\n",
       "        [1., 1., 1.],\n",
       "        [1., 1., 1.],\n",
       "        ...,\n",
       "        [1., 1., 1.],\n",
       "        [1., 1., 1.],\n",
       "        [1., 1., 1.]],\n",
       "\n",
       "       [[1., 1., 1.],\n",
       "        [1., 1., 1.],\n",
       "        [1., 1., 1.],\n",
       "        ...,\n",
       "        [1., 1., 1.],\n",
       "        [1., 1., 1.],\n",
       "        [1., 1., 1.]],\n",
       "\n",
       "       [[1., 1., 1.],\n",
       "        [1., 1., 1.],\n",
       "        [1., 1., 1.],\n",
       "        ...,\n",
       "        [1., 1., 1.],\n",
       "        [1., 1., 1.],\n",
       "        [1., 1., 1.]],\n",
       "\n",
       "       ...,\n",
       "\n",
       "       [[1., 1., 1.],\n",
       "        [1., 1., 1.],\n",
       "        [1., 1., 1.],\n",
       "        ...,\n",
       "        [1., 1., 1.],\n",
       "        [1., 1., 1.],\n",
       "        [1., 1., 1.]],\n",
       "\n",
       "       [[1., 1., 1.],\n",
       "        [1., 1., 1.],\n",
       "        [1., 1., 1.],\n",
       "        ...,\n",
       "        [1., 1., 1.],\n",
       "        [1., 1., 1.],\n",
       "        [1., 1., 1.]],\n",
       "\n",
       "       [[1., 1., 1.],\n",
       "        [1., 1., 1.],\n",
       "        [1., 1., 1.],\n",
       "        ...,\n",
       "        [1., 1., 1.],\n",
       "        [1., 1., 1.],\n",
       "        [1., 1., 1.]]], dtype=float32)"
      ]
     },
     "execution_count": 8,
     "metadata": {},
     "output_type": "execute_result"
    }
   ],
   "source": [
    "from matplotlib.image import imread\n",
    "imread(sample_img_path)"
   ]
  },
  {
   "cell_type": "code",
   "execution_count": 9,
   "metadata": {
    "id": "pkqzgjG7IEGP"
   },
   "outputs": [],
   "source": [
    "# Normalize images\n",
    "data_set = data_set.map(lambda x,y: (x/255, y))\n"
   ]
  },
  {
   "cell_type": "code",
   "execution_count": 10,
   "metadata": {
    "id": "WOVFdFmSMmoC"
   },
   "outputs": [],
   "source": [
    "input_shape=(32,32,3)\n",
    "\n",
    "train_size = int(len(data_set)* .7)\n",
    "val_size = int(len(data_set)*.2)+1\n",
    "test_size = int(len(data_set)*.1)+1"
   ]
  },
  {
   "cell_type": "code",
   "execution_count": 11,
   "metadata": {
    "id": "mbfMgfxcM3JB"
   },
   "outputs": [],
   "source": [
    "train = data_set.take(train_size)\n",
    "val = data_set.skip(train_size).take(val_size)\n",
    "test = data_set.skip(train_size + val_size).take(test_size)"
   ]
  },
  {
   "cell_type": "markdown",
   "metadata": {
    "id": "8uAWBF3bxBTi",
    "tags": []
   },
   "source": [
    "## Create Model using Tensorflow"
   ]
  },
  {
   "cell_type": "code",
   "execution_count": 12,
   "metadata": {
    "id": "gkc5ozRCxMmh"
   },
   "outputs": [
    {
     "name": "stdout",
     "output_type": "stream",
     "text": [
      "Model: \"sequential\"\n",
      "_________________________________________________________________\n",
      " Layer (type)                Output Shape              Param #   \n",
      "=================================================================\n",
      " conv2d (Conv2D)             (None, 30, 30, 32)        896       \n",
      "                                                                 \n",
      " max_pooling2d (MaxPooling2D  (None, 15, 15, 32)       0         \n",
      " )                                                               \n",
      "                                                                 \n",
      " conv2d_1 (Conv2D)           (None, 13, 13, 64)        18496     \n",
      "                                                                 \n",
      " max_pooling2d_1 (MaxPooling  (None, 6, 6, 64)         0         \n",
      " 2D)                                                             \n",
      "                                                                 \n",
      " conv2d_2 (Conv2D)           (None, 4, 4, 64)          36928     \n",
      "                                                                 \n",
      " flatten (Flatten)           (None, 1024)              0         \n",
      "                                                                 \n",
      " dense (Dense)               (None, 64)                65600     \n",
      "                                                                 \n",
      " dense_1 (Dense)             (None, 19)                1235      \n",
      "                                                                 \n",
      "=================================================================\n",
      "Total params: 123,155\n",
      "Trainable params: 123,155\n",
      "Non-trainable params: 0\n",
      "_________________________________________________________________\n",
      "Epoch 1/10\n"
     ]
    },
    {
     "name": "stderr",
     "output_type": "stream",
     "text": [
      "2023-06-16 23:58:40.875948: I tensorflow/core/common_runtime/executor.cc:1197] [/device:CPU:0] (DEBUG INFO) Executor start aborting (this does not indicate an error and you can ignore this message): INVALID_ARGUMENT: You must feed a value for placeholder tensor 'Placeholder/_4' with dtype int32 and shape [10071]\n",
      "\t [[{{node Placeholder/_4}}]]\n",
      "2023-06-16 23:58:40.876836: I tensorflow/core/common_runtime/executor.cc:1197] [/device:CPU:0] (DEBUG INFO) Executor start aborting (this does not indicate an error and you can ignore this message): INVALID_ARGUMENT: You must feed a value for placeholder tensor 'Placeholder/_4' with dtype int32 and shape [10071]\n",
      "\t [[{{node Placeholder/_4}}]]\n"
     ]
    },
    {
     "name": "stdout",
     "output_type": "stream",
     "text": [
      "880/881 [============================>.] - ETA: 0s - loss: 1.3719 - accuracy: 0.5842"
     ]
    },
    {
     "name": "stderr",
     "output_type": "stream",
     "text": [
      "2023-06-16 23:58:57.274842: I tensorflow/core/common_runtime/executor.cc:1197] [/device:CPU:0] (DEBUG INFO) Executor start aborting (this does not indicate an error and you can ignore this message): INVALID_ARGUMENT: You must feed a value for placeholder tensor 'Placeholder/_0' with dtype string and shape [10071]\n",
      "\t [[{{node Placeholder/_0}}]]\n",
      "2023-06-16 23:58:57.275705: I tensorflow/core/common_runtime/executor.cc:1197] [/device:CPU:0] (DEBUG INFO) Executor start aborting (this does not indicate an error and you can ignore this message): INVALID_ARGUMENT: You must feed a value for placeholder tensor 'Placeholder/_4' with dtype int32 and shape [10071]\n",
      "\t [[{{node Placeholder/_4}}]]\n"
     ]
    },
    {
     "name": "stdout",
     "output_type": "stream",
     "text": [
      "881/881 [==============================] - 21s 22ms/step - loss: 1.3709 - accuracy: 0.5844 - val_loss: 0.6373 - val_accuracy: 0.8165\n",
      "Epoch 2/10\n",
      "881/881 [==============================] - 24s 28ms/step - loss: 0.4181 - accuracy: 0.8764 - val_loss: 0.4235 - val_accuracy: 0.8760\n",
      "Epoch 3/10\n",
      "881/881 [==============================] - 37s 42ms/step - loss: 0.2490 - accuracy: 0.9220 - val_loss: 0.3781 - val_accuracy: 0.8983\n",
      "Epoch 4/10\n",
      "881/881 [==============================] - 38s 43ms/step - loss: 0.1577 - accuracy: 0.9501 - val_loss: 0.3458 - val_accuracy: 0.9067\n",
      "Epoch 5/10\n",
      "881/881 [==============================] - 28s 32ms/step - loss: 0.1290 - accuracy: 0.9587 - val_loss: 0.3761 - val_accuracy: 0.9058\n",
      "Epoch 6/10\n",
      "881/881 [==============================] - 41s 46ms/step - loss: 0.0959 - accuracy: 0.9679 - val_loss: 0.3425 - val_accuracy: 0.9127\n",
      "Epoch 7/10\n",
      "881/881 [==============================] - 53s 60ms/step - loss: 0.0736 - accuracy: 0.9755 - val_loss: 0.3251 - val_accuracy: 0.9201\n",
      "Epoch 8/10\n",
      "881/881 [==============================] - 34s 39ms/step - loss: 0.0830 - accuracy: 0.9739 - val_loss: 0.2969 - val_accuracy: 0.9340\n",
      "Epoch 9/10\n",
      "881/881 [==============================] - 40s 45ms/step - loss: 0.0582 - accuracy: 0.9821 - val_loss: 0.3550 - val_accuracy: 0.9206\n",
      "Epoch 10/10\n",
      "881/881 [==============================] - 46s 53ms/step - loss: 0.0409 - accuracy: 0.9871 - val_loss: 0.3167 - val_accuracy: 0.9311\n"
     ]
    }
   ],
   "source": [
    "tf_model = models.Sequential()\n",
    "\n",
    "# Convolutional base\n",
    "tf_model.add(layers.Conv2D(32, (3, 3), activation='relu', input_shape=input_shape))\n",
    "tf_model.add(layers.MaxPooling2D((2, 2)))\n",
    "tf_model.add(layers.Conv2D(64, (3, 3), activation='relu'))\n",
    "tf_model.add(layers.MaxPooling2D((2, 2)))\n",
    "tf_model.add(layers.Conv2D(64, (3, 3), activation='relu'))\n",
    "\n",
    "# Dense layers\n",
    "tf_model.add(layers.Flatten())\n",
    "tf_model.add(layers.Dense(64, activation='relu'))\n",
    "tf_model.add(layers.Dense(19))\n",
    "tf_model.summary()\n",
    "\n",
    "# The summary shows that the convolutional base has a (4, 4, 64) output, which\n",
    "#   is flattened into a (1024) shaped vector, and then sent through two Dense\n",
    "#   layers\n",
    "\n",
    "tf_model.compile(optimizer='adam',\n",
    "              loss=tf.keras.losses.SparseCategoricalCrossentropy(from_logits=True),\n",
    "              metrics=['accuracy'])\n",
    "\n",
    "tf_history = tf_model.fit(train, epochs=10,\n",
    "                    validation_data=val)\n",
    "\n",
    "tf_model.save(os.path.join(os.curdir, 'models', 'tf_model.h5'))"
   ]
  },
  {
   "cell_type": "code",
   "execution_count": 13,
   "metadata": {
    "id": "ci4F0BLbA62T"
   },
   "outputs": [
    {
     "name": "stderr",
     "output_type": "stream",
     "text": [
      "2023-06-17 00:05:20.439619: I tensorflow/core/common_runtime/executor.cc:1197] [/device:CPU:0] (DEBUG INFO) Executor start aborting (this does not indicate an error and you can ignore this message): INVALID_ARGUMENT: You must feed a value for placeholder tensor 'Placeholder/_0' with dtype string and shape [10071]\n",
      "\t [[{{node Placeholder/_0}}]]\n",
      "2023-06-17 00:05:20.440487: I tensorflow/core/common_runtime/executor.cc:1197] [/device:CPU:0] (DEBUG INFO) Executor start aborting (this does not indicate an error and you can ignore this message): INVALID_ARGUMENT: You must feed a value for placeholder tensor 'Placeholder/_4' with dtype int32 and shape [10071]\n",
      "\t [[{{node Placeholder/_4}}]]\n"
     ]
    },
    {
     "name": "stdout",
     "output_type": "stream",
     "text": [
      "126/126 - 6s - loss: 0.2942 - accuracy: 0.9364 - 6s/epoch - 47ms/step\n"
     ]
    },
    {
     "data": {
      "image/png": "[encoded data removed]",
      "text/plain": [
       "<Figure size 640x480 with 1 Axes>"
      ]
     },
     "metadata": {},
     "output_type": "display_data"
    }
   ],
   "source": [
    "plt.plot(tf_history.history['accuracy'], label='accuracy')\n",
    "plt.plot(tf_history.history['val_accuracy'], label = 'val_accuracy')\n",
    "plt.xlabel('Epoch')\n",
    "plt.ylabel('Accuracy')\n",
    "plt.ylim([0.5, 1])\n",
    "plt.legend(loc='lower right')\n",
    "\n",
    "test_loss, test_acc = tf_model.evaluate(test, verbose=2)"
   ]
  },
  {
   "cell_type": "markdown",
   "metadata": {
    "id": "6jLHDig8hGrS",
    "tags": []
   },
   "source": [
    "## Create Model using Resnet-50"
   ]
  },
  {
   "cell_type": "code",
   "execution_count": 14,
   "metadata": {
    "colab": {
     "base_uri": "https://localhost:8080/"
    },
    "id": "43sdMFwOpo-n",
    "outputId": "a503d55e-3f23-447a-8a1d-eb0b95c8a9dc"
   },
   "outputs": [
    {
     "name": "stdout",
     "output_type": "stream",
     "text": [
      "Found 10071 files belonging to 19 classes.\n",
      "Using 8057 files for training.\n"
     ]
    }
   ],
   "source": [
    "img_height = 32\n",
    "img_width = 32\n",
    "\n",
    "train_ds = tf.keras.preprocessing.image_dataset_from_directory(\n",
    "    data_dir, validation_split=0.2, subset=\"training\", seed=123,\n",
    "    label_mode='categorical', image_size=(img_height, img_width),\n",
    "    batch_size=batch_size)"
   ]
  },
  {
   "cell_type": "code",
   "execution_count": 15,
   "metadata": {
    "colab": {
     "base_uri": "https://localhost:8080/"
    },
    "id": "h1BtElvMp_TH",
    "outputId": "41a4645e-2406-48e1-c751-c26860e0cb36"
   },
   "outputs": [
    {
     "name": "stdout",
     "output_type": "stream",
     "text": [
      "Found 10071 files belonging to 19 classes.\n",
      "Using 2014 files for validation.\n"
     ]
    }
   ],
   "source": [
    "validation_ds = tf.keras.preprocessing.image_dataset_from_directory(\n",
    "    data_dir, validation_split=0.2, subset=\"validation\", seed=123, \n",
    "    label_mode='categorical', image_size=(img_height, img_width),\n",
    "    batch_size=batch_size)"
   ]
  },
  {
   "cell_type": "code",
   "execution_count": 16,
   "metadata": {
    "id": "nVZLejYThHdq"
   },
   "outputs": [],
   "source": [
    "from tensorflow.keras.models import Sequential\n",
    "from tensorflow.keras.layers import Conv2D, MaxPooling2D, Dense, Flatten, Dropout\n",
    "from tensorflow.keras.optimizers import Adam\n",
    "\n",
    "resnet_model = Sequential()\n",
    "\n",
    "resnet_pretrained_model= tf.keras.applications.ResNet50(include_top=False,\n",
    "\n",
    "                   input_shape=input_shape,\n",
    "\n",
    "                   pooling='avg',classes=19,\n",
    "\n",
    "                   weights='imagenet')\n",
    "\n",
    "for each_layer in resnet_pretrained_model.layers:\n",
    "\n",
    "        each_layer.trainable=False\n",
    "\n",
    "resnet_model.add(resnet_pretrained_model)"
   ]
  },
  {
   "cell_type": "code",
   "execution_count": 17,
   "metadata": {
    "id": "oXyHjfHxiWmS"
   },
   "outputs": [],
   "source": [
    "resnet_model.add(Flatten())\n",
    "\n",
    "resnet_model.add(Dense(512, activation='relu'))\n",
    "resnet_model.add(Dense(19, activation='softmax'))"
   ]
  },
  {
   "cell_type": "code",
   "execution_count": 18,
   "metadata": {
    "colab": {
     "base_uri": "https://localhost:8080/"
    },
    "id": "5ocwg282iXPl",
    "outputId": "1ebd728c-b508-4f3a-e3ab-f348046e2a94"
   },
   "outputs": [
    {
     "name": "stdout",
     "output_type": "stream",
     "text": [
      "Epoch 1/10\n"
     ]
    },
    {
     "name": "stderr",
     "output_type": "stream",
     "text": [
      "2023-06-17 00:05:38.287058: I tensorflow/core/common_runtime/executor.cc:1197] [/device:CPU:0] (DEBUG INFO) Executor start aborting (this does not indicate an error and you can ignore this message): INVALID_ARGUMENT: You must feed a value for placeholder tensor 'Placeholder/_0' with dtype string and shape [8057]\n",
      "\t [[{{node Placeholder/_0}}]]\n",
      "2023-06-17 00:05:38.287677: I tensorflow/core/common_runtime/executor.cc:1197] [/device:CPU:0] (DEBUG INFO) Executor start aborting (this does not indicate an error and you can ignore this message): INVALID_ARGUMENT: You must feed a value for placeholder tensor 'Placeholder/_0' with dtype string and shape [8057]\n",
      "\t [[{{node Placeholder/_0}}]]\n"
     ]
    },
    {
     "name": "stdout",
     "output_type": "stream",
     "text": [
      "1008/1008 [==============================] - ETA: 0s - loss: 0.9976 - accuracy: 0.6910"
     ]
    },
    {
     "name": "stderr",
     "output_type": "stream",
     "text": [
      "2023-06-17 00:08:04.974827: I tensorflow/core/common_runtime/executor.cc:1197] [/device:CPU:0] (DEBUG INFO) Executor start aborting (this does not indicate an error and you can ignore this message): INVALID_ARGUMENT: You must feed a value for placeholder tensor 'Placeholder/_0' with dtype string and shape [2014]\n",
      "\t [[{{node Placeholder/_0}}]]\n",
      "2023-06-17 00:08:04.975405: I tensorflow/core/common_runtime/executor.cc:1197] [/device:CPU:0] (DEBUG INFO) Executor start aborting (this does not indicate an error and you can ignore this message): INVALID_ARGUMENT: You must feed a value for placeholder tensor 'Placeholder/_4' with dtype int32 and shape [2014]\n",
      "\t [[{{node Placeholder/_4}}]]\n"
     ]
    },
    {
     "name": "stdout",
     "output_type": "stream",
     "text": [
      "1008/1008 [==============================] - 176s 165ms/step - loss: 0.9976 - accuracy: 0.6910 - val_loss: 0.9016 - val_accuracy: 0.7195\n",
      "Epoch 2/10\n",
      "1008/1008 [==============================] - 112s 111ms/step - loss: 0.5454 - accuracy: 0.8158 - val_loss: 0.5422 - val_accuracy: 0.8217\n",
      "Epoch 3/10\n",
      "1008/1008 [==============================] - 110s 109ms/step - loss: 0.4471 - accuracy: 0.8526 - val_loss: 0.5837 - val_accuracy: 0.8153\n",
      "Epoch 4/10\n",
      "1008/1008 [==============================] - 112s 111ms/step - loss: 0.3891 - accuracy: 0.8713 - val_loss: 0.6258 - val_accuracy: 0.8064\n",
      "Epoch 5/10\n",
      "1008/1008 [==============================] - 118s 117ms/step - loss: 0.3351 - accuracy: 0.8862 - val_loss: 0.4773 - val_accuracy: 0.8436\n",
      "Epoch 6/10\n",
      "1008/1008 [==============================] - 125s 124ms/step - loss: 0.2977 - accuracy: 0.9010 - val_loss: 0.6007 - val_accuracy: 0.8272\n",
      "Epoch 7/10\n",
      "1008/1008 [==============================] - 110s 109ms/step - loss: 0.2589 - accuracy: 0.9150 - val_loss: 0.4882 - val_accuracy: 0.8486\n",
      "Epoch 8/10\n",
      "1008/1008 [==============================] - 127s 126ms/step - loss: 0.2479 - accuracy: 0.9135 - val_loss: 0.5183 - val_accuracy: 0.8565\n",
      "Epoch 9/10\n",
      "1008/1008 [==============================] - 124s 123ms/step - loss: 0.2103 - accuracy: 0.9262 - val_loss: 0.5506 - val_accuracy: 0.8431\n",
      "Epoch 10/10\n",
      "1008/1008 [==============================] - 135s 134ms/step - loss: 0.2023 - accuracy: 0.9278 - val_loss: 0.5272 - val_accuracy: 0.8590\n"
     ]
    }
   ],
   "source": [
    "resnet_model.compile(optimizer=Adam(learning_rate=0.001),loss='categorical_crossentropy',metrics=['accuracy'])\n",
    "\n",
    "epochs = 10\n",
    "history = resnet_model.fit(train_ds, validation_data=validation_ds, epochs=epochs)\n",
    "resnet_model.save(os.path.join(os.curdir, 'models', 'resnet_model.h5'))"
   ]
  },
  {
   "cell_type": "code",
   "execution_count": 19,
   "metadata": {
    "id": "meRo2PWxiY_u"
   },
   "outputs": [
    {
     "data": {
      "text/plain": [
       "<matplotlib.legend.Legend at 0x15d65df10>"
      ]
     },
     "execution_count": 19,
     "metadata": {},
     "output_type": "execute_result"
    },
    {
     "data": {
      "image/png": "[encoded data removed]",
      "text/plain": [
       "<Figure size 800x800 with 1 Axes>"
      ]
     },
     "metadata": {},
     "output_type": "display_data"
    }
   ],
   "source": [
    "plt.figure(figsize=(8, 8))\n",
    "\n",
    "epochs_range= range(epochs)\n",
    "\n",
    "plt.plot( epochs_range, history.history['accuracy'], label=\"Training Accuracy\")\n",
    "\n",
    "plt.plot(epochs_range, history.history['val_accuracy'], label=\"Validation Accuracy\")\n",
    "\n",
    "plt.axis(ymin=0.4,ymax=1)\n",
    "\n",
    "plt.grid()\n",
    "\n",
    "plt.title('Model Accuracy')\n",
    "\n",
    "plt.ylabel('Accuracy')\n",
    "\n",
    "plt.xlabel('Epochs')\n",
    "\n",
    "plt.legend(['train', 'validation'])"
   ]
  },
  {
   "cell_type": "code",
   "execution_count": 20,
   "metadata": {
    "id": "SiBOhhbziax_"
   },
   "outputs": [
    {
     "data": {
      "text/plain": [
       "<Figure size 640x480 with 0 Axes>"
      ]
     },
     "metadata": {},
     "output_type": "display_data"
    }
   ],
   "source": [
    "#plotter_lib.show()\n",
    "\n",
    "plt.savefig('output-plot.png')"
   ]
  },
  {
   "cell_type": "markdown",
   "metadata": {
    "id": "05exxZ78FTOH",
    "tags": []
   },
   "source": [
    "## Create Model using VGG19"
   ]
  },
  {
   "cell_type": "code",
   "execution_count": 21,
   "metadata": {
    "id": "YoNT2YT6FX8n"
   },
   "outputs": [],
   "source": [
    "from tensorflow.keras.applications import VGG19"
   ]
  },
  {
   "cell_type": "code",
   "execution_count": 22,
   "metadata": {
    "id": "tEPnt0EwFdji"
   },
   "outputs": [],
   "source": [
    "vgg19_model = Sequential()\n",
    "\n",
    "vgg19_pretrained_model= tf.keras.applications.VGG19(include_top=False,\n",
    "\n",
    "                   input_shape=input_shape,\n",
    "\n",
    "                   pooling='avg',classes=19,\n",
    "\n",
    "                   weights='imagenet')\n",
    "\n",
    "for each_layer in vgg19_pretrained_model.layers:\n",
    "        each_layer.trainable=False\n",
    "\n",
    "vgg19_model.add(vgg19_pretrained_model)"
   ]
  },
  {
   "cell_type": "code",
   "execution_count": 23,
   "metadata": {
    "id": "Amd07fJYKPv2"
   },
   "outputs": [],
   "source": [
    "vgg19_model.add(Flatten())\n",
    "\n",
    "vgg19_model.add(Dense(512, activation='relu'))\n",
    "\n",
    "vgg19_model.add(Dense(19, activation='softmax'))"
   ]
  },
  {
   "cell_type": "code",
   "execution_count": 24,
   "metadata": {
    "id": "sywhMHGQKXf9"
   },
   "outputs": [
    {
     "name": "stdout",
     "output_type": "stream",
     "text": [
      "Epoch 1/8\n",
      "1008/1008 [==============================] - 75s 74ms/step - loss: 2.3336 - accuracy: 0.7346 - val_loss: 0.9867 - val_accuracy: 0.8059\n",
      "Epoch 2/8\n",
      "1008/1008 [==============================] - 69s 68ms/step - loss: 0.5453 - accuracy: 0.8554 - val_loss: 0.6448 - val_accuracy: 0.8441\n",
      "Epoch 3/8\n",
      "1008/1008 [==============================] - 63s 62ms/step - loss: 0.4279 - accuracy: 0.8770 - val_loss: 0.5721 - val_accuracy: 0.8491\n",
      "Epoch 4/8\n",
      "1008/1008 [==============================] - 62s 62ms/step - loss: 0.3979 - accuracy: 0.8811 - val_loss: 0.6252 - val_accuracy: 0.8381\n",
      "Epoch 5/8\n",
      "1008/1008 [==============================] - 64s 64ms/step - loss: 0.3194 - accuracy: 0.9016 - val_loss: 0.6612 - val_accuracy: 0.8456\n",
      "Epoch 6/8\n",
      "1008/1008 [==============================] - 68s 67ms/step - loss: 0.3248 - accuracy: 0.9023 - val_loss: 0.5858 - val_accuracy: 0.8729\n",
      "Epoch 7/8\n",
      "1008/1008 [==============================] - 73s 73ms/step - loss: 0.2892 - accuracy: 0.9127 - val_loss: 0.5669 - val_accuracy: 0.8699\n",
      "Epoch 8/8\n",
      "1008/1008 [==============================] - 74s 74ms/step - loss: 0.2552 - accuracy: 0.9255 - val_loss: 0.6772 - val_accuracy: 0.8565\n"
     ]
    }
   ],
   "source": [
    "vgg19_model.compile(optimizer=Adam(learning_rate=0.001),loss='categorical_crossentropy',metrics=['accuracy'])\n",
    "\n",
    "epochs = 8\n",
    "try:\n",
    "  history = vgg19_model.fit(train_ds, validation_data=validation_ds, epochs=epochs)\n",
    "except Exception as e: print(e)\n",
    "\n",
    "vgg19_model.save(os.path.join(os.curdir, 'models', 'vgg19_model.h5'))"
   ]
  },
  {
   "cell_type": "code",
   "execution_count": 25,
   "metadata": {
    "id": "R_yb_-_GUCna"
   },
   "outputs": [
    {
     "data": {
      "text/plain": [
       "<matplotlib.legend.Legend at 0x15ddf9350>"
      ]
     },
     "execution_count": 25,
     "metadata": {},
     "output_type": "execute_result"
    },
    {
     "data": {
      "image/png": "[encoded data removed]",
      "text/plain": [
       "<Figure size 800x800 with 1 Axes>"
      ]
     },
     "metadata": {},
     "output_type": "display_data"
    }
   ],
   "source": [
    "# Test\n",
    "\n",
    "plt.figure(figsize=(8, 8))\n",
    "\n",
    "epochs_range= range(epochs)\n",
    "\n",
    "plt.plot( epochs_range, history.history['accuracy'], label=\"Training Accuracy\")\n",
    "\n",
    "plt.plot(epochs_range, history.history['val_accuracy'], label=\"Validation Accuracy\")\n",
    "\n",
    "plt.axis(ymin=0.4,ymax=1)\n",
    "\n",
    "plt.grid()\n",
    "\n",
    "plt.title('Model Accuracy')\n",
    "\n",
    "plt.ylabel('Accuracy')\n",
    "\n",
    "plt.xlabel('Epochs')\n",
    "\n",
    "plt.legend(['train', 'validation'])"
   ]
  },
  {
   "cell_type": "markdown",
   "metadata": {
    "id": "v5fjuSxMCglJ",
    "tags": []
   },
   "source": [
    "## Create Model using MobileNet"
   ]
  },
  {
   "cell_type": "code",
   "execution_count": null,
   "metadata": {
    "id": "yHkMzA0qCyHJ"
   },
   "outputs": [],
   "source": [
    "from tensorflow.keras.applications import MobileNetV2"
   ]
  },
  {
   "cell_type": "code",
   "execution_count": null,
   "metadata": {
    "id": "zknr1QcpCjbm"
   },
   "outputs": [],
   "source": [
    "# Mobilenet requires a minimum 96x96 image size\n",
    "mobilenet_input_shape = (96, 96, 3)\n",
    "mobilenet_image_size = (96, 96)\n",
    "mobilenet_data_set = tf.keras.utils.image_dataset_from_directory(data_dir, batch_size = batch_size, image_size = mobilenet_image_size)"
   ]
  },
  {
   "cell_type": "code",
   "execution_count": null,
   "metadata": {},
   "outputs": [],
   "source": [
    "mobilenet_train_ds = tf.keras.preprocessing.image_dataset_from_directory(\n",
    "    data_dir, validation_split=0.2, subset=\"training\", seed=123,\n",
    "    label_mode='categorical', image_size=mobilenet_image_size,\n",
    "    batch_size=batch_size)\n",
    "\n",
    "mobilenet_validation_ds = tf.keras.preprocessing.image_dataset_from_directory(\n",
    "    data_dir, validation_split=0.2, subset=\"validation\", seed=123, \n",
    "    label_mode='categorical', image_size=mobilenet_image_size,\n",
    "    batch_size=batch_size)"
   ]
  },
  {
   "cell_type": "code",
   "execution_count": null,
   "metadata": {
    "tags": []
   },
   "outputs": [],
   "source": [
    "mobilenet_model = Sequential()\n",
    "mobilenet_pretrained_model = tf.keras.applications.MobileNetV2(include_top=False,\n",
    "\n",
    "                   input_shape=mobilenet_input_shape,\n",
    "\n",
    "                   pooling='avg',classes=19,\n",
    "\n",
    "                   weights='imagenet')\n",
    "\n",
    "for each_layer in mobilenet_pretrained_model.layers:\n",
    "        each_layer.trainable=False\n",
    "\n",
    "mobilenet_model.add(mobilenet_pretrained_model)"
   ]
  },
  {
   "cell_type": "code",
   "execution_count": null,
   "metadata": {},
   "outputs": [],
   "source": [
    "mobilenet_model.add(Flatten())\n",
    "\n",
    "mobilenet_model.add(Dense(512, activation='relu'))\n",
    "\n",
    "mobilenet_model.add(Dense(19, activation='softmax'))"
   ]
  },
  {
   "cell_type": "code",
   "execution_count": null,
   "metadata": {},
   "outputs": [],
   "source": [
    "mobilenet_model.compile(optimizer=Adam(learning_rate=0.001),loss='categorical_crossentropy',metrics=['accuracy'])\n",
    "\n",
    "epochs = 8\n",
    "try:\n",
    "  history = mobilenet_model.fit(mobilenet_train_ds, validation_data=mobilenet_validation_ds, epochs=epochs)\n",
    "except Exception as e: print(e)\n",
    "mobilenet_model.save(os.path.join(os.curdir, 'models', 'mobilenet_model.h5'))"
   ]
  },
  {
   "cell_type": "code",
   "execution_count": null,
   "metadata": {},
   "outputs": [],
   "source": [
    "# Test\n",
    "\n",
    "plt.figure(figsize=(8, 8))\n",
    "\n",
    "epochs_range= range(epochs)\n",
    "\n",
    "plt.plot( epochs_range, history.history['accuracy'], label=\"Training Accuracy\")\n",
    "\n",
    "plt.plot(epochs_range, history.history['val_accuracy'], label=\"Validation Accuracy\")\n",
    "\n",
    "plt.axis(ymin=0.4,ymax=1)\n",
    "\n",
    "plt.grid()\n",
    "\n",
    "plt.title('Model Accuracy')\n",
    "\n",
    "plt.ylabel('Accuracy')\n",
    "\n",
    "plt.xlabel('Epochs')\n",
    "\n",
    "plt.legend(['train', 'validation'])"
   ]
  },
  {
   "cell_type": "markdown",
   "metadata": {},
   "source": [
    "## Ensemble"
   ]
  },
  {
   "cell_type": "code",
   "execution_count": 34,
   "metadata": {},
   "outputs": [],
   "source": [
    "import tensorflow as tf\n",
    "import os"
   ]
  },
  {
   "cell_type": "code",
   "execution_count": 35,
   "metadata": {},
   "outputs": [],
   "source": [
    "# Now we can ensemble our 4 models to improve our performance.\n",
    "# We will use the weighted average method to ensemble the models.\n",
    "def weighted_init(shape= (1,1,1), weights = [1,1,1], dtype = tf.float32):\n",
    "    return tf.constant(np.array(weights).reshape(shape), dtype = dtype)"
   ]
  },
  {
   "cell_type": "code",
   "execution_count": 36,
   "metadata": {},
   "outputs": [],
   "source": [
    "from tensorflow.keras.layers import Layer, Concatenate\n",
    "\n",
    "class WeightedAverage(Layer):\n",
    "    def __init__(self):\n",
    "        super(WeightedAverage, self).__init__()\n",
    "    \n",
    "    def build(self, input_shape):\n",
    "        \n",
    "        self.W = self.add_weight(\n",
    "            shape=(1,1,len(input_shape)),\n",
    "            initializer=weighted_init,\n",
    "            dtype=tf.float32,\n",
    "            trainable=True)\n",
    "        \n",
    "    def call(self, inputs):\n",
    "        inputs = [tf.expand_dims(i, -1) for i in inputs]\n",
    "        inputs = Concatenate(axis=-1)(inputs)\n",
    "        weights = tf.nn.softmax(self.W, axis=-1)\n",
    "        \n",
    "        return tf.reduce_mean(weights*inputs, axis=-1)"
   ]
  },
  {
   "cell_type": "code",
   "execution_count": 37,
   "metadata": {},
   "outputs": [],
   "source": [
    "# Load trained models from file system\n",
    "tf_model_path = os.path.join(os.curdir, 'models', 'tf_model.h5')\n",
    "resnet_model_path = os.path.join(os.curdir, 'models', 'resnet_model.h5')\n",
    "vgg19_model_path = os.path.join(os.curdir, 'models', 'vgg19_model.h5')\n",
    "mobilenet_model_path = os.path.join(os.curdir, 'models', 'mobilenet_model.h5')\n",
    "\n",
    "models = [tf.keras.models.load_model(tf_model_path),\n",
    "          tf.keras.models.load_model(resnet_model_path),\n",
    "          tf.keras.models.load_model(vgg19_model_path)]\n",
    "          # tf.keras.load_model(mobilenet_model_path)]"
   ]
  },
  {
   "cell_type": "code",
   "execution_count": 41,
   "metadata": {},
   "outputs": [
    {
     "name": "stdout",
     "output_type": "stream",
     "text": [
      "You must install pydot (`pip install pydot`) and install graphviz (see instructions at https://graphviz.gitlab.io/download/) for plot_model to work.\n",
      "poo\n"
     ]
    }
   ],
   "source": [
    "# Create the model\n",
    "# from tensorflow.keras import Input\n",
    "input_shape=(32, 32, 3)\n",
    "input = Input(shape=input_shape, name='input')\n",
    "\n",
    "outputs = [model(input) for model in models]\n",
    "\n",
    "x = WeightedAverage()(outputs)\n",
    "\n",
    "output = layers.Dense(19, activation='softmax')(x)\n",
    "\n",
    "weighted_avg_model = tf.keras.Model(input, output, name= 'Weighted_Average_Model')\n",
    "\n",
    "tf.keras.utils.plot_model(weighted_avg_model)\n",
    "print('poo')"
   ]
  },
  {
   "cell_type": "code",
   "execution_count": null,
   "metadata": {},
   "outputs": [],
   "source": []
  },
  {
   "cell_type": "code",
   "execution_count": null,
   "metadata": {},
   "outputs": [],
   "source": []
  },
  {
   "cell_type": "code",
   "execution_count": null,
   "metadata": {},
   "outputs": [],
   "source": []
  }
 ],
 "metadata": {
  "colab": {
   "collapsed_sections": [
    "aWp7X9UPJgHW",
    "8uAWBF3bxBTi",
    "v5fjuSxMCglJ"
   ],
   "provenance": [],
   "toc_visible": true
  },
  "kernelspec": {
   "display_name": "Python 3 (ipykernel)",
   "language": "python",
   "name": "python3"
  },
  "language_info": {
   "codemirror_mode": {
    "name": "ipython",
    "version": 3
   },
   "file_extension": ".py",
   "mimetype": "text/x-python",
   "name": "python",
   "nbconvert_exporter": "python",
   "pygments_lexer": "ipython3",
   "version": "3.11.3"
  },
  "toc-autonumbering": false,
  "toc-showmarkdowntxt": true,
  "toc-showtags": false
 },
 "nbformat": 4,
 "nbformat_minor": 4
}
