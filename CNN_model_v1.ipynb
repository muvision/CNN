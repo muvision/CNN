{
 "cells": [
  {
   "cell_type": "markdown",
   "metadata": {
    "id": "C_DPTxoJF_lV",
    "tags": []
   },
   "source": [
    "## Import dependencies"
   ]
  },
  {
   "cell_type": "code",
   "execution_count": 152,
   "metadata": {
    "colab": {
     "base_uri": "https://localhost:8080/"
    },
    "id": "yYUJZtAE7pmq",
    "outputId": "d660cbf8-e3f1-4aa6-bd1d-2cd593667585"
   },
   "outputs": [
    {
     "name": "stdout",
     "output_type": "stream",
     "text": [
      "Requirement already satisfied: opendatasets in /Users/jpolina/anaconda3/envs/tf/lib/python3.11/site-packages (0.1.22)\n",
      "Requirement already satisfied: tqdm in /Users/jpolina/anaconda3/envs/tf/lib/python3.11/site-packages (from opendatasets) (4.65.0)\n",
      "Requirement already satisfied: kaggle in /Users/jpolina/anaconda3/envs/tf/lib/python3.11/site-packages (from opendatasets) (1.5.13)\n",
      "Requirement already satisfied: click in /Users/jpolina/anaconda3/envs/tf/lib/python3.11/site-packages (from opendatasets) (8.0.4)\n",
      "Requirement already satisfied: six>=1.10 in /Users/jpolina/anaconda3/envs/tf/lib/python3.11/site-packages (from kaggle->opendatasets) (1.16.0)\n",
      "Requirement already satisfied: certifi in /Users/jpolina/anaconda3/envs/tf/lib/python3.11/site-packages (from kaggle->opendatasets) (2023.5.7)\n",
      "Requirement already satisfied: python-dateutil in /Users/jpolina/anaconda3/envs/tf/lib/python3.11/site-packages (from kaggle->opendatasets) (2.8.2)\n",
      "Requirement already satisfied: requests in /Users/jpolina/anaconda3/envs/tf/lib/python3.11/site-packages (from kaggle->opendatasets) (2.29.0)\n",
      "Requirement already satisfied: python-slugify in /Users/jpolina/anaconda3/envs/tf/lib/python3.11/site-packages (from kaggle->opendatasets) (8.0.1)\n",
      "Requirement already satisfied: urllib3 in /Users/jpolina/anaconda3/envs/tf/lib/python3.11/site-packages (from kaggle->opendatasets) (1.26.16)\n",
      "Requirement already satisfied: text-unidecode>=1.3 in /Users/jpolina/anaconda3/envs/tf/lib/python3.11/site-packages (from python-slugify->kaggle->opendatasets) (1.3)\n",
      "Requirement already satisfied: charset-normalizer<4,>=2 in /Users/jpolina/anaconda3/envs/tf/lib/python3.11/site-packages (from requests->kaggle->opendatasets) (2.0.4)\n",
      "Requirement already satisfied: idna<4,>=2.5 in /Users/jpolina/anaconda3/envs/tf/lib/python3.11/site-packages (from requests->kaggle->opendatasets) (3.4)\n",
      "Requirement already satisfied: pandas in /Users/jpolina/anaconda3/envs/tf/lib/python3.11/site-packages (2.0.2)\n",
      "Requirement already satisfied: python-dateutil>=2.8.2 in /Users/jpolina/anaconda3/envs/tf/lib/python3.11/site-packages (from pandas) (2.8.2)\n",
      "Requirement already satisfied: pytz>=2020.1 in /Users/jpolina/anaconda3/envs/tf/lib/python3.11/site-packages (from pandas) (2022.7)\n",
      "Requirement already satisfied: tzdata>=2022.1 in /Users/jpolina/anaconda3/envs/tf/lib/python3.11/site-packages (from pandas) (2023.3)\n",
      "Requirement already satisfied: numpy>=1.21.0 in /Users/jpolina/anaconda3/envs/tf/lib/python3.11/site-packages (from pandas) (1.23.5)\n",
      "Requirement already satisfied: six>=1.5 in /Users/jpolina/anaconda3/envs/tf/lib/python3.11/site-packages (from python-dateutil>=2.8.2->pandas) (1.16.0)\n"
     ]
    }
   ],
   "source": [
    "!pip install opendatasets\n",
    "!pip install pandas\n",
    "import tensorflow as tf\n",
    "import opendatasets as od\n",
    "import pandas as pd\n",
    "import numpy as np\n",
    "import cv2 as cv\n",
    "from tensorflow.keras import datasets, layers, models, optimizers\n",
    "import matplotlib.pyplot as plt\n",
    "import os\n",
    "from PIL import Image"
   ]
  },
  {
   "cell_type": "code",
   "execution_count": 20,
   "metadata": {
    "id": "YOANaXd38oyz"
   },
   "outputs": [],
   "source": [
    "# Download the dataset from the Kaggle API\n",
    "# od.download('https://www.kaggle.com/datasets/sagyamthapa/handwritten-math-symbols', force=True)"
   ]
  },
  {
   "cell_type": "markdown",
   "metadata": {
    "id": "aWp7X9UPJgHW",
    "tags": []
   },
   "source": [
    "## Preprocess the Colors\n"
   ]
  },
  {
   "cell_type": "code",
   "execution_count": 21,
   "metadata": {
    "colab": {
     "base_uri": "https://localhost:8080/",
     "height": 0
    },
    "id": "yLPtqNmMHSAb",
    "outputId": "fe1b72db-b0ce-4e0b-a6a4-f9f069707617"
   },
   "outputs": [
    {
     "name": "stdout",
     "output_type": "stream",
     "text": [
      "array([[[255, 255, 255],\n",
      "        [255, 255, 255],\n",
      "        [255, 255, 255],\n",
      "        ...,\n",
      "        [255, 255, 255],\n",
      "        [255, 255, 255],\n",
      "        [255, 255, 255]],\n",
      "\n",
      "       [[255, 255, 255],\n",
      "        [255, 255, 255],\n",
      "        [255, 255, 255],\n",
      "        ...,\n",
      "        [255, 255, 255],\n",
      "        [255, 255, 255],\n",
      "        [255, 255, 255]],\n",
      "\n",
      "       [[255, 255, 255],\n",
      "        [255, 255, 255],\n",
      "        [255, 255, 255],\n",
      "        ...,\n",
      "        [255, 255, 255],\n",
      "        [255, 255, 255],\n",
      "        [255, 255, 255]],\n",
      "\n",
      "       ...,\n",
      "\n",
      "       [[255, 255, 255],\n",
      "        [255, 255, 255],\n",
      "        [255, 255, 255],\n",
      "        ...,\n",
      "        [255, 255, 255],\n",
      "        [255, 255, 255],\n",
      "        [255, 255, 255]],\n",
      "\n",
      "       [[255, 255, 255],\n",
      "        [255, 255, 255],\n",
      "        [255, 255, 255],\n",
      "        ...,\n",
      "        [255, 255, 255],\n",
      "        [255, 255, 255],\n",
      "        [255, 255, 255]],\n",
      "\n",
      "       [[255, 255, 255],\n",
      "        [255, 255, 255],\n",
      "        [255, 255, 255],\n",
      "        ...,\n",
      "        [255, 255, 255],\n",
      "        [255, 255, 255],\n",
      "        [255, 255, 255]]], dtype=uint8)\n",
      "(400, 400, 3)\n"
     ]
    },
    {
     "data": {
      "image/png": "[encoded data removed]",
      "text/plain": [
       "<Figure size 640x480 with 1 Axes>"
      ]
     },
     "metadata": {},
     "output_type": "display_data"
    }
   ],
   "source": [
    "sample_img_path = os.path.join(os.curdir, 'handwritten-math-symbols', 'dataset', '0', '0CdBlhLw.png')\n",
    "img = np.asarray(Image.open(sample_img_path))\n",
    "imgplot = plt.imshow(img)\n",
    "print(repr(img))\n",
    "print(img.shape)"
   ]
  },
  {
   "cell_type": "code",
   "execution_count": 22,
   "metadata": {
    "id": "QEMHxizrKRLu"
   },
   "outputs": [],
   "source": [
    "# Convert from CMYK to Gray scale\n",
    "data_dir = os.path.join(os.curdir, 'handwritten-math-symbols', 'dataset')\n",
    "\n",
    "for image_class in os.listdir(data_dir):\n",
    "  if image_class.startswith('.'):\n",
    "    continue\n",
    "  for image in os.listdir(os.path.join(data_dir, image_class)):\n",
    "    try:\n",
    "      image_path = os.path.join(data_dir, image_class, image)\n",
    "      image = cv.imread(image_path)\n",
    "      grayImage = cv.cvtColor(image, cv.COLOR_RGBA2RGB)\n",
    "      cv.imwrite(image_path, grayImage)\n",
    "    except:\n",
    "      continue"
   ]
  },
  {
   "cell_type": "code",
   "execution_count": 23,
   "metadata": {
    "colab": {
     "base_uri": "https://localhost:8080/",
     "height": 0
    },
    "id": "GxVjwaXZWqMS",
    "outputId": "5cfb6f73-a1f4-4f54-8cbb-0029235daf53"
   },
   "outputs": [
    {
     "name": "stdout",
     "output_type": "stream",
     "text": [
      "array([[[255, 255, 255],\n",
      "        [255, 255, 255],\n",
      "        [255, 255, 255],\n",
      "        ...,\n",
      "        [255, 255, 255],\n",
      "        [255, 255, 255],\n",
      "        [255, 255, 255]],\n",
      "\n",
      "       [[255, 255, 255],\n",
      "        [255, 255, 255],\n",
      "        [255, 255, 255],\n",
      "        ...,\n",
      "        [255, 255, 255],\n",
      "        [255, 255, 255],\n",
      "        [255, 255, 255]],\n",
      "\n",
      "       [[255, 255, 255],\n",
      "        [255, 255, 255],\n",
      "        [255, 255, 255],\n",
      "        ...,\n",
      "        [255, 255, 255],\n",
      "        [255, 255, 255],\n",
      "        [255, 255, 255]],\n",
      "\n",
      "       ...,\n",
      "\n",
      "       [[255, 255, 255],\n",
      "        [255, 255, 255],\n",
      "        [255, 255, 255],\n",
      "        ...,\n",
      "        [255, 255, 255],\n",
      "        [255, 255, 255],\n",
      "        [255, 255, 255]],\n",
      "\n",
      "       [[255, 255, 255],\n",
      "        [255, 255, 255],\n",
      "        [255, 255, 255],\n",
      "        ...,\n",
      "        [255, 255, 255],\n",
      "        [255, 255, 255],\n",
      "        [255, 255, 255]],\n",
      "\n",
      "       [[255, 255, 255],\n",
      "        [255, 255, 255],\n",
      "        [255, 255, 255],\n",
      "        ...,\n",
      "        [255, 255, 255],\n",
      "        [255, 255, 255],\n",
      "        [255, 255, 255]]], dtype=uint8)\n",
      "(400, 400, 3)\n"
     ]
    },
    {
     "data": {
      "image/png": "[encoded data removed]",
      "text/plain": [
       "<Figure size 640x480 with 1 Axes>"
      ]
     },
     "metadata": {},
     "output_type": "display_data"
    }
   ],
   "source": [
    "img = np.asarray(Image.open(sample_img_path))\n",
    "imgplot = plt.imshow(img)\n",
    "print(repr(img))\n",
    "print(img.shape)"
   ]
  },
  {
   "cell_type": "code",
   "execution_count": 24,
   "metadata": {
    "colab": {
     "base_uri": "https://localhost:8080/"
    },
    "id": "fJbNBW8LFXA3",
    "outputId": "0d630fca-45b5-45ba-be0a-75cb84b50491"
   },
   "outputs": [
    {
     "name": "stdout",
     "output_type": "stream",
     "text": [
      "Found 10073 files belonging to 19 classes.\n"
     ]
    }
   ],
   "source": [
    "batch_size = 8\n",
    "image_size = (128, 128)\n",
    "data_set = tf.keras.utils.image_dataset_from_directory(data_dir, batch_size = batch_size, image_size = image_size)"
   ]
  },
  {
   "cell_type": "code",
   "execution_count": 25,
   "metadata": {
    "colab": {
     "base_uri": "https://localhost:8080/"
    },
    "id": "ZzzNJdvGHtnF",
    "outputId": "741b4fa0-6013-4833-df0b-0caa27a89fb3"
   },
   "outputs": [
    {
     "name": "stdout",
     "output_type": "stream",
     "text": [
      "array([[[255, 255, 255],\n",
      "        [255, 255, 255],\n",
      "        [255, 255, 255],\n",
      "        ...,\n",
      "        [255, 255, 255],\n",
      "        [255, 255, 255],\n",
      "        [255, 255, 255]],\n",
      "\n",
      "       [[255, 255, 255],\n",
      "        [255, 255, 255],\n",
      "        [255, 255, 255],\n",
      "        ...,\n",
      "        [255, 255, 255],\n",
      "        [255, 255, 255],\n",
      "        [255, 255, 255]],\n",
      "\n",
      "       [[255, 255, 255],\n",
      "        [255, 255, 255],\n",
      "        [255, 255, 255],\n",
      "        ...,\n",
      "        [255, 255, 255],\n",
      "        [255, 255, 255],\n",
      "        [255, 255, 255]],\n",
      "\n",
      "       ...,\n",
      "\n",
      "       [[255, 255, 255],\n",
      "        [255, 255, 255],\n",
      "        [255, 255, 255],\n",
      "        ...,\n",
      "        [255, 255, 255],\n",
      "        [255, 255, 255],\n",
      "        [255, 255, 255]],\n",
      "\n",
      "       [[255, 255, 255],\n",
      "        [255, 255, 255],\n",
      "        [255, 255, 255],\n",
      "        ...,\n",
      "        [255, 255, 255],\n",
      "        [255, 255, 255],\n",
      "        [255, 255, 255]],\n",
      "\n",
      "       [[255, 255, 255],\n",
      "        [255, 255, 255],\n",
      "        [255, 255, 255],\n",
      "        ...,\n",
      "        [255, 255, 255],\n",
      "        [255, 255, 255],\n",
      "        [255, 255, 255]]], dtype=uint8)\n",
      "(400, 400, 3)\n"
     ]
    }
   ],
   "source": [
    "print(repr(img))\n",
    "print(img.shape)"
   ]
  },
  {
   "cell_type": "markdown",
   "metadata": {
    "id": "y4yTIBDOJvMk",
    "tags": []
   },
   "source": [
    "## Preprocess data set"
   ]
  },
  {
   "cell_type": "code",
   "execution_count": 26,
   "metadata": {
    "colab": {
     "base_uri": "https://localhost:8080/"
    },
    "id": "F12eza_fcJa7",
    "outputId": "dfe5d9fd-3c82-46b6-b8f0-1aa74e852285"
   },
   "outputs": [
    {
     "data": {
      "text/plain": [
       "array([[[1., 1., 1.],\n",
       "        [1., 1., 1.],\n",
       "        [1., 1., 1.],\n",
       "        ...,\n",
       "        [1., 1., 1.],\n",
       "        [1., 1., 1.],\n",
       "        [1., 1., 1.]],\n",
       "\n",
       "       [[1., 1., 1.],\n",
       "        [1., 1., 1.],\n",
       "        [1., 1., 1.],\n",
       "        ...,\n",
       "        [1., 1., 1.],\n",
       "        [1., 1., 1.],\n",
       "        [1., 1., 1.]],\n",
       "\n",
       "       [[1., 1., 1.],\n",
       "        [1., 1., 1.],\n",
       "        [1., 1., 1.],\n",
       "        ...,\n",
       "        [1., 1., 1.],\n",
       "        [1., 1., 1.],\n",
       "        [1., 1., 1.]],\n",
       "\n",
       "       ...,\n",
       "\n",
       "       [[1., 1., 1.],\n",
       "        [1., 1., 1.],\n",
       "        [1., 1., 1.],\n",
       "        ...,\n",
       "        [1., 1., 1.],\n",
       "        [1., 1., 1.],\n",
       "        [1., 1., 1.]],\n",
       "\n",
       "       [[1., 1., 1.],\n",
       "        [1., 1., 1.],\n",
       "        [1., 1., 1.],\n",
       "        ...,\n",
       "        [1., 1., 1.],\n",
       "        [1., 1., 1.],\n",
       "        [1., 1., 1.]],\n",
       "\n",
       "       [[1., 1., 1.],\n",
       "        [1., 1., 1.],\n",
       "        [1., 1., 1.],\n",
       "        ...,\n",
       "        [1., 1., 1.],\n",
       "        [1., 1., 1.],\n",
       "        [1., 1., 1.]]], dtype=float32)"
      ]
     },
     "execution_count": 26,
     "metadata": {},
     "output_type": "execute_result"
    }
   ],
   "source": [
    "from matplotlib.image import imread\n",
    "imread(sample_img_path)"
   ]
  },
  {
   "cell_type": "code",
   "execution_count": 27,
   "metadata": {
    "id": "pkqzgjG7IEGP"
   },
   "outputs": [],
   "source": [
    "# Normalize images\n",
    "data_set = data_set.map(lambda x,y: (x/255, y))\n"
   ]
  },
  {
   "cell_type": "code",
   "execution_count": 28,
   "metadata": {
    "id": "WOVFdFmSMmoC"
   },
   "outputs": [],
   "source": [
    "input_shape=(128,128,3)\n",
    "\n",
    "train_size = int(len(data_set)* .7)\n",
    "val_size = int(len(data_set)*.2)+1\n",
    "test_size = int(len(data_set)*.1)+1"
   ]
  },
  {
   "cell_type": "code",
   "execution_count": 29,
   "metadata": {
    "id": "mbfMgfxcM3JB"
   },
   "outputs": [],
   "source": [
    "train = data_set.take(train_size)\n",
    "val = data_set.skip(train_size).take(val_size)\n",
    "test = data_set.skip(train_size + val_size).take(test_size)"
   ]
  },
  {
   "cell_type": "markdown",
   "metadata": {
    "id": "8uAWBF3bxBTi",
    "tags": []
   },
   "source": [
    "## Create Custom Model using Tensorflow"
   ]
  },
  {
   "cell_type": "code",
   "execution_count": 17,
   "metadata": {
    "id": "gkc5ozRCxMmh"
   },
   "outputs": [
    {
     "ename": "AttributeError",
     "evalue": "'list' object has no attribute 'Sequential'",
     "output_type": "error",
     "traceback": [
      "\u001b[0;31m---------------------------------------------------------------------------\u001b[0m",
      "\u001b[0;31mAttributeError\u001b[0m                            Traceback (most recent call last)",
      "Cell \u001b[0;32mIn[17], line 1\u001b[0m\n\u001b[0;32m----> 1\u001b[0m tf_model \u001b[38;5;241m=\u001b[39m models\u001b[38;5;241m.\u001b[39mSequential(name\u001b[38;5;241m=\u001b[39m\u001b[38;5;124m'\u001b[39m\u001b[38;5;124mCustom_Model\u001b[39m\u001b[38;5;124m'\u001b[39m)\n\u001b[1;32m      3\u001b[0m \u001b[38;5;66;03m# Convolutional base\u001b[39;00m\n\u001b[1;32m      4\u001b[0m tf_model\u001b[38;5;241m.\u001b[39madd(layers\u001b[38;5;241m.\u001b[39mConv2D(\u001b[38;5;241m32\u001b[39m, (\u001b[38;5;241m3\u001b[39m, \u001b[38;5;241m3\u001b[39m), activation\u001b[38;5;241m=\u001b[39m\u001b[38;5;124m'\u001b[39m\u001b[38;5;124mrelu\u001b[39m\u001b[38;5;124m'\u001b[39m, input_shape\u001b[38;5;241m=\u001b[39minput_shape))\n",
      "\u001b[0;31mAttributeError\u001b[0m: 'list' object has no attribute 'Sequential'"
     ]
    }
   ],
   "source": [
    "tf_model = models.Sequential(name='Custom_Model')\n",
    "\n",
    "# Convolutional base\n",
    "tf_model.add(layers.Conv2D(32, (3, 3), activation='relu', input_shape=input_shape))\n",
    "tf_model.add(layers.MaxPooling2D((2, 2)))\n",
    "tf_model.add(layers.Conv2D(64, (3, 3), activation='relu'))\n",
    "tf_model.add(layers.MaxPooling2D((2, 2)))\n",
    "tf_model.add(layers.Conv2D(64, (3, 3), activation='relu'))\n",
    "\n",
    "# Dense layers\n",
    "tf_model.add(layers.Flatten())\n",
    "tf_model.add(layers.Dense(64, activation='relu'))\n",
    "tf_model.add(layers.Dense(19, activation='softmax'))\n",
    "tf_model.summary()\n",
    "\n",
    "# The summary shows that the convolutional base has a (4, 4, 64) output, which\n",
    "#   is flattened into a (1024) shaped vector, and then sent through two Dense\n",
    "#   layers\n",
    "\n",
    "tf_model.compile(optimizer='adam',\n",
    "              loss=tf.keras.losses.SparseCategoricalCrossentropy(from_logits=True),\n",
    "              metrics=['accuracy'])\n",
    "\n",
    "tf_history = tf_model.fit(train, epochs=10,\n",
    "                    validation_data=val)\n",
    "\n",
    "tf_model.save(os.path.join(os.curdir, 'models', 'tf_model.h5'))"
   ]
  },
  {
   "cell_type": "code",
   "execution_count": 18,
   "metadata": {
    "id": "ci4F0BLbA62T"
   },
   "outputs": [
    {
     "ename": "NameError",
     "evalue": "name 'tf_history' is not defined",
     "output_type": "error",
     "traceback": [
      "\u001b[0;31m---------------------------------------------------------------------------\u001b[0m",
      "\u001b[0;31mNameError\u001b[0m                                 Traceback (most recent call last)",
      "Cell \u001b[0;32mIn[18], line 1\u001b[0m\n\u001b[0;32m----> 1\u001b[0m plt\u001b[38;5;241m.\u001b[39mplot(tf_history\u001b[38;5;241m.\u001b[39mhistory[\u001b[38;5;124m'\u001b[39m\u001b[38;5;124maccuracy\u001b[39m\u001b[38;5;124m'\u001b[39m], label\u001b[38;5;241m=\u001b[39m\u001b[38;5;124m'\u001b[39m\u001b[38;5;124maccuracy\u001b[39m\u001b[38;5;124m'\u001b[39m)\n\u001b[1;32m      2\u001b[0m plt\u001b[38;5;241m.\u001b[39mplot(tf_history\u001b[38;5;241m.\u001b[39mhistory[\u001b[38;5;124m'\u001b[39m\u001b[38;5;124mval_accuracy\u001b[39m\u001b[38;5;124m'\u001b[39m], label \u001b[38;5;241m=\u001b[39m \u001b[38;5;124m'\u001b[39m\u001b[38;5;124mval_accuracy\u001b[39m\u001b[38;5;124m'\u001b[39m)\n\u001b[1;32m      3\u001b[0m plt\u001b[38;5;241m.\u001b[39mxlabel(\u001b[38;5;124m'\u001b[39m\u001b[38;5;124mEpoch\u001b[39m\u001b[38;5;124m'\u001b[39m)\n",
      "\u001b[0;31mNameError\u001b[0m: name 'tf_history' is not defined"
     ]
    }
   ],
   "source": [
    "plt.plot(tf_history.history['accuracy'], label='accuracy')\n",
    "plt.plot(tf_history.history['val_accuracy'], label = 'val_accuracy')\n",
    "plt.xlabel('Epoch')\n",
    "plt.ylabel('Accuracy')\n",
    "plt.ylim([0.5, 1])\n",
    "plt.legend(loc='lower right')\n",
    "\n",
    "test_loss, test_acc = tf_model.evaluate(test, verbose=2)"
   ]
  },
  {
   "cell_type": "markdown",
   "metadata": {
    "id": "6jLHDig8hGrS",
    "tags": []
   },
   "source": [
    "## Create Model using Resnet-50"
   ]
  },
  {
   "cell_type": "code",
   "execution_count": 437,
   "metadata": {
    "colab": {
     "base_uri": "https://localhost:8080/"
    },
    "id": "43sdMFwOpo-n",
    "outputId": "a503d55e-3f23-447a-8a1d-eb0b95c8a9dc"
   },
   "outputs": [
    {
     "name": "stdout",
     "output_type": "stream",
     "text": [
      "Found 10073 files belonging to 19 classes.\n",
      "Using 8059 files for training.\n"
     ]
    }
   ],
   "source": [
    "# train_ds = tf.keras.preprocessing.image_dataset_from_directory(\n",
    "#     data_dir, validation_split=0.2, subset=\"training\", seed=123,\n",
    "#     label_mode='categorical', image_size=image_size,\n",
    "#     batch_size=batch_size)"
   ]
  },
  {
   "cell_type": "code",
   "execution_count": 438,
   "metadata": {
    "colab": {
     "base_uri": "https://localhost:8080/"
    },
    "id": "h1BtElvMp_TH",
    "outputId": "41a4645e-2406-48e1-c751-c26860e0cb36"
   },
   "outputs": [
    {
     "name": "stdout",
     "output_type": "stream",
     "text": [
      "Found 10073 files belonging to 19 classes.\n",
      "Using 2014 files for validation.\n"
     ]
    }
   ],
   "source": [
    "# validation_ds = tf.keras.preprocessing.image_dataset_from_directory(\n",
    "#     data_dir, validation_split=0.2, subset=\"validation\", seed=123, \n",
    "#     label_mode='categorical', image_size=image_size,\n",
    "#     batch_size=batch_size)"
   ]
  },
  {
   "cell_type": "code",
   "execution_count": 442,
   "metadata": {
    "id": "nVZLejYThHdq"
   },
   "outputs": [],
   "source": [
    "from tensorflow.keras.optimizers import Adam\n",
    "\n",
    "resnet_model = models.Sequential(name='Resnet_Model')\n",
    "\n",
    "resnet_pretrained_model= tf.keras.applications.ResNet50(include_top=False,\n",
    "\n",
    "                   input_shape=input_shape,\n",
    "\n",
    "                   pooling='max',classes=19,\n",
    "\n",
    "                   weights='imagenet')\n",
    "\n",
    "for each_layer in resnet_pretrained_model.layers:\n",
    "\n",
    "        each_layer.trainable=False\n",
    "\n",
    "resnet_model.add(resnet_pretrained_model)"
   ]
  },
  {
   "cell_type": "code",
   "execution_count": 443,
   "metadata": {
    "id": "oXyHjfHxiWmS"
   },
   "outputs": [],
   "source": [
    "resnet_model.add(layers.Flatten())\n",
    "\n",
    "resnet_model.add(layers.Dense(512, activation='relu'))\n",
    "resnet_model.add(layers.Dense(19, activation='softmax'))"
   ]
  },
  {
   "cell_type": "code",
   "execution_count": 444,
   "metadata": {
    "colab": {
     "base_uri": "https://localhost:8080/"
    },
    "id": "5ocwg282iXPl",
    "outputId": "1ebd728c-b508-4f3a-e3ab-f348046e2a94"
   },
   "outputs": [
    {
     "name": "stdout",
     "output_type": "stream",
     "text": [
      "Epoch 1/10\n",
      "882/882 [==============================] - 275s 308ms/step - loss: 0.9480 - accuracy: 0.7075 - val_loss: 0.6459 - val_accuracy: 0.7856\n",
      "Epoch 2/10\n",
      "882/882 [==============================] - 310s 352ms/step - loss: 0.4671 - accuracy: 0.8508 - val_loss: 0.4571 - val_accuracy: 0.8612\n",
      "Epoch 3/10\n",
      "882/882 [==============================] - 320s 363ms/step - loss: 0.3305 - accuracy: 0.8931 - val_loss: 0.4372 - val_accuracy: 0.8567\n",
      "Epoch 4/10\n",
      "882/882 [==============================] - 250s 283ms/step - loss: 0.2539 - accuracy: 0.9158 - val_loss: 0.3554 - val_accuracy: 0.8869\n",
      "Epoch 5/10\n",
      "882/882 [==============================] - 234s 265ms/step - loss: 0.2157 - accuracy: 0.9296 - val_loss: 0.3634 - val_accuracy: 0.8958\n",
      "Epoch 6/10\n",
      "882/882 [==============================] - 289s 328ms/step - loss: 0.1763 - accuracy: 0.9418 - val_loss: 0.3810 - val_accuracy: 0.8725\n",
      "Epoch 7/10\n",
      "882/882 [==============================] - 224s 254ms/step - loss: 0.1575 - accuracy: 0.9476 - val_loss: 0.4156 - val_accuracy: 0.8854\n",
      "Epoch 8/10\n",
      "882/882 [==============================] - 217s 247ms/step - loss: 0.1432 - accuracy: 0.9527 - val_loss: 0.3264 - val_accuracy: 0.9101\n",
      "Epoch 9/10\n",
      "882/882 [==============================] - 215s 244ms/step - loss: 0.1280 - accuracy: 0.9576 - val_loss: 0.4013 - val_accuracy: 0.8883\n",
      "Epoch 10/10\n",
      "882/882 [==============================] - 218s 247ms/step - loss: 0.1010 - accuracy: 0.9664 - val_loss: 0.3842 - val_accuracy: 0.8982\n"
     ]
    }
   ],
   "source": [
    "resnet_model.compile(optimizer=Adam(learning_rate=0.001),loss=tf.keras.losses.SparseCategoricalCrossentropy(from_logits=True),metrics=['accuracy'])\n",
    "\n",
    "epochs = 10\n",
    "history = resnet_model.fit(train, validation_data=val, epochs=epochs)\n",
    "resnet_model.save(os.path.join(os.curdir, 'models', 'resnet_model.h5'))"
   ]
  },
  {
   "cell_type": "code",
   "execution_count": 445,
   "metadata": {
    "id": "meRo2PWxiY_u"
   },
   "outputs": [
    {
     "data": {
      "text/plain": [
       "<matplotlib.legend.Legend at 0x163f19e50>"
      ]
     },
     "execution_count": 445,
     "metadata": {},
     "output_type": "execute_result"
    },
    {
     "data": {
      "image/png": "[encoded data removed]",
      "text/plain": [
       "<Figure size 800x800 with 1 Axes>"
      ]
     },
     "metadata": {},
     "output_type": "display_data"
    }
   ],
   "source": [
    "plt.figure(figsize=(8, 8))\n",
    "\n",
    "epochs_range= range(epochs)\n",
    "\n",
    "plt.plot( epochs_range, history.history['accuracy'], label=\"Training Accuracy\")\n",
    "\n",
    "plt.plot(epochs_range, history.history['val_accuracy'], label=\"Validation Accuracy\")\n",
    "\n",
    "plt.axis(ymin=0.4,ymax=1)\n",
    "\n",
    "plt.grid()\n",
    "\n",
    "plt.title('Model Accuracy')\n",
    "\n",
    "plt.ylabel('Accuracy')\n",
    "\n",
    "plt.xlabel('Epochs')\n",
    "\n",
    "plt.legend(['train', 'validation'])"
   ]
  },
  {
   "cell_type": "code",
   "execution_count": 446,
   "metadata": {
    "id": "SiBOhhbziax_"
   },
   "outputs": [
    {
     "data": {
      "text/plain": [
       "<Figure size 640x480 with 0 Axes>"
      ]
     },
     "metadata": {},
     "output_type": "display_data"
    }
   ],
   "source": [
    "#plotter_lib.show()\n",
    "\n",
    "plt.savefig('output-plot.png')"
   ]
  },
  {
   "cell_type": "markdown",
   "metadata": {
    "id": "05exxZ78FTOH",
    "tags": []
   },
   "source": [
    "## Create Model using VGG19"
   ]
  },
  {
   "cell_type": "code",
   "execution_count": 447,
   "metadata": {
    "id": "YoNT2YT6FX8n"
   },
   "outputs": [],
   "source": [
    "from tensorflow.keras.applications import VGG19"
   ]
  },
  {
   "cell_type": "code",
   "execution_count": 448,
   "metadata": {
    "id": "tEPnt0EwFdji"
   },
   "outputs": [],
   "source": [
    "vgg19_model = models.Sequential(name='VGG19_Model')\n",
    "\n",
    "vgg19_pretrained_model= tf.keras.applications.VGG19(include_top=False,\n",
    "\n",
    "                   input_shape=input_shape,\n",
    "\n",
    "                   pooling='max',classes=19,\n",
    "\n",
    "                   weights='imagenet')\n",
    "\n",
    "for each_layer in vgg19_pretrained_model.layers:\n",
    "        each_layer.trainable=False\n",
    "\n",
    "vgg19_model.add(vgg19_pretrained_model)"
   ]
  },
  {
   "cell_type": "code",
   "execution_count": 449,
   "metadata": {
    "id": "Amd07fJYKPv2"
   },
   "outputs": [],
   "source": [
    "vgg19_model.add(layers.Flatten())\n",
    "\n",
    "vgg19_model.add(layers.Dense(512, activation='relu'))\n",
    "\n",
    "vgg19_model.add(layers.Dense(19, activation='softmax'))"
   ]
  },
  {
   "cell_type": "code",
   "execution_count": 450,
   "metadata": {
    "id": "sywhMHGQKXf9"
   },
   "outputs": [
    {
     "name": "stdout",
     "output_type": "stream",
     "text": [
      "Epoch 1/8\n",
      "882/882 [==============================] - 623s 705ms/step - loss: 0.5486 - accuracy: 0.8458 - val_loss: 0.2626 - val_accuracy: 0.9249\n",
      "Epoch 2/8\n",
      "882/882 [==============================] - 628s 713ms/step - loss: 0.1733 - accuracy: 0.9449 - val_loss: 0.1275 - val_accuracy: 0.9629\n",
      "Epoch 3/8\n",
      "882/882 [==============================] - 629s 713ms/step - loss: 0.1110 - accuracy: 0.9641 - val_loss: 0.1223 - val_accuracy: 0.9545\n",
      "Epoch 4/8\n",
      "882/882 [==============================] - 629s 712ms/step - loss: 0.0844 - accuracy: 0.9734 - val_loss: 0.0823 - val_accuracy: 0.9778\n",
      "Epoch 5/8\n",
      "882/882 [==============================] - 731s 829ms/step - loss: 0.0638 - accuracy: 0.9796 - val_loss: 0.1105 - val_accuracy: 0.9620\n",
      "Epoch 6/8\n",
      "882/882 [==============================] - 947s 1s/step - loss: 0.0633 - accuracy: 0.9804 - val_loss: 0.0975 - val_accuracy: 0.9704\n",
      "Epoch 7/8\n",
      "882/882 [==============================] - 931s 1s/step - loss: 0.0539 - accuracy: 0.9812 - val_loss: 0.0659 - val_accuracy: 0.9778\n",
      "Epoch 8/8\n",
      "882/882 [==============================] - 930s 1s/step - loss: 0.0428 - accuracy: 0.9870 - val_loss: 0.1151 - val_accuracy: 0.9625\n"
     ]
    }
   ],
   "source": [
    "vgg19_model.compile(optimizer=Adam(learning_rate=0.001),loss=tf.keras.losses.SparseCategoricalCrossentropy(from_logits=True),metrics=['accuracy'])\n",
    "\n",
    "epochs = 8\n",
    "try:\n",
    "  history = vgg19_model.fit(train, validation_data=val, epochs=epochs)\n",
    "except Exception as e: print(e)\n",
    "\n",
    "vgg19_model.save(os.path.join(os.curdir, 'models', 'vgg19_model.h5'))"
   ]
  },
  {
   "cell_type": "code",
   "execution_count": 451,
   "metadata": {
    "id": "R_yb_-_GUCna"
   },
   "outputs": [
    {
     "data": {
      "text/plain": [
       "<matplotlib.legend.Legend at 0x167ebf910>"
      ]
     },
     "execution_count": 451,
     "metadata": {},
     "output_type": "execute_result"
    },
    {
     "data": {
      "image/png": "[encoded data removed]",
      "text/plain": [
       "<Figure size 800x800 with 1 Axes>"
      ]
     },
     "metadata": {},
     "output_type": "display_data"
    }
   ],
   "source": [
    "# Test\n",
    "\n",
    "plt.figure(figsize=(8, 8))\n",
    "\n",
    "epochs_range= range(epochs)\n",
    "\n",
    "plt.plot( epochs_range, history.history['accuracy'], label=\"Training Accuracy\")\n",
    "\n",
    "plt.plot(epochs_range, history.history['val_accuracy'], label=\"Validation Accuracy\")\n",
    "\n",
    "plt.axis(ymin=0.4,ymax=1)\n",
    "\n",
    "plt.grid()\n",
    "\n",
    "plt.title('Model Accuracy')\n",
    "\n",
    "plt.ylabel('Accuracy')\n",
    "\n",
    "plt.xlabel('Epochs')\n",
    "\n",
    "plt.legend(['train', 'validation'])"
   ]
  },
  {
   "cell_type": "markdown",
   "metadata": {
    "id": "v5fjuSxMCglJ",
    "tags": []
   },
   "source": [
    "## Create Model using MobileNet"
   ]
  },
  {
   "cell_type": "code",
   "execution_count": 452,
   "metadata": {
    "id": "yHkMzA0qCyHJ"
   },
   "outputs": [],
   "source": [
    "from tensorflow.keras.applications import MobileNetV2"
   ]
  },
  {
   "cell_type": "code",
   "execution_count": 453,
   "metadata": {
    "tags": []
   },
   "outputs": [],
   "source": [
    "mobilenet_model = models.Sequential(name='MobileNet_Model')\n",
    "mobilenet_pretrained_model = tf.keras.applications.MobileNetV2(include_top=False,\n",
    "\n",
    "                   input_shape=input_shape,\n",
    "\n",
    "                   pooling='max',classes=19,\n",
    "\n",
    "                   weights='imagenet')\n",
    "\n",
    "for each_layer in mobilenet_pretrained_model.layers:\n",
    "        each_layer.trainable=False\n",
    "\n",
    "mobilenet_model.add(mobilenet_pretrained_model)"
   ]
  },
  {
   "cell_type": "code",
   "execution_count": 454,
   "metadata": {},
   "outputs": [],
   "source": [
    "mobilenet_model.add(layers.Flatten())\n",
    "\n",
    "mobilenet_model.add(layers.Dense(512, activation='relu'))\n",
    "\n",
    "mobilenet_model.add(layers.Dense(19, activation='softmax'))"
   ]
  },
  {
   "cell_type": "code",
   "execution_count": 455,
   "metadata": {},
   "outputs": [
    {
     "name": "stdout",
     "output_type": "stream",
     "text": [
      "Epoch 1/8\n",
      "882/882 [==============================] - 156s 164ms/step - loss: 0.4552 - accuracy: 0.8819 - val_loss: 0.2488 - val_accuracy: 0.9195\n",
      "Epoch 2/8\n",
      "882/882 [==============================] - 82s 93ms/step - loss: 0.1406 - accuracy: 0.9575 - val_loss: 0.1004 - val_accuracy: 0.9679\n",
      "Epoch 3/8\n",
      "882/882 [==============================] - 111s 126ms/step - loss: 0.0914 - accuracy: 0.9731 - val_loss: 0.0672 - val_accuracy: 0.9788\n",
      "Epoch 4/8\n",
      "882/882 [==============================] - 78s 89ms/step - loss: 0.0822 - accuracy: 0.9762 - val_loss: 0.1331 - val_accuracy: 0.9590\n",
      "Epoch 5/8\n",
      "882/882 [==============================] - 71s 81ms/step - loss: 0.0935 - accuracy: 0.9715 - val_loss: 0.1243 - val_accuracy: 0.9689\n",
      "Epoch 6/8\n",
      "882/882 [==============================] - 76s 86ms/step - loss: 0.0555 - accuracy: 0.9831 - val_loss: 0.1153 - val_accuracy: 0.9723\n",
      "Epoch 7/8\n",
      "882/882 [==============================] - 74s 84ms/step - loss: 0.0630 - accuracy: 0.9821 - val_loss: 0.1600 - val_accuracy: 0.9629\n",
      "Epoch 8/8\n",
      "882/882 [==============================] - 71s 81ms/step - loss: 0.0506 - accuracy: 0.9874 - val_loss: 0.0972 - val_accuracy: 0.9743\n"
     ]
    }
   ],
   "source": [
    "mobilenet_model.compile(optimizer=optimizers.Adam(learning_rate=0.001),loss=tf.keras.losses.SparseCategoricalCrossentropy(from_logits=True),metrics=['accuracy'])\n",
    "\n",
    "epochs = 8\n",
    "try:\n",
    "  history = mobilenet_model.fit(train, validation_data=val, epochs=epochs)\n",
    "except Exception as e: print(e)\n",
    "mobilenet_model.save(os.path.join(os.curdir, 'models', 'mobilenet_model.h5'))"
   ]
  },
  {
   "cell_type": "code",
   "execution_count": 456,
   "metadata": {},
   "outputs": [
    {
     "data": {
      "text/plain": [
       "<matplotlib.legend.Legend at 0x167d14790>"
      ]
     },
     "execution_count": 456,
     "metadata": {},
     "output_type": "execute_result"
    },
    {
     "data": {
      "image/png": "[encoded data removed]",
      "text/plain": [
       "<Figure size 800x800 with 1 Axes>"
      ]
     },
     "metadata": {},
     "output_type": "display_data"
    }
   ],
   "source": [
    "# Test\n",
    "\n",
    "plt.figure(figsize=(8, 8))\n",
    "\n",
    "epochs_range= range(epochs)\n",
    "\n",
    "plt.plot(epochs_range, history.history['accuracy'], label=\"Training Accuracy\")\n",
    "\n",
    "plt.plot(epochs_range, history.history['val_accuracy'], label=\"Validation Accuracy\")\n",
    "\n",
    "plt.axis(ymin=0.4,ymax=1)\n",
    "\n",
    "plt.grid()\n",
    "\n",
    "plt.title('Model Accuracy')\n",
    "\n",
    "plt.ylabel('Accuracy')\n",
    "\n",
    "plt.xlabel('Epochs')\n",
    "\n",
    "plt.legend(['train', 'validation'])"
   ]
  },
  {
   "cell_type": "markdown",
   "metadata": {},
   "source": [
    "## Ensemble"
   ]
  },
  {
   "cell_type": "code",
   "execution_count": 153,
   "metadata": {},
   "outputs": [],
   "source": [
    "# Load trained models from file system\n",
    "tf_model_path = os.path.join(os.curdir, 'models', 'tf_model.h5')\n",
    "resnet_model_path = os.path.join(os.curdir, 'models', 'resnet_model.h5')\n",
    "vgg19_model_path = os.path.join(os.curdir, 'models', 'vgg19_model.h5')\n",
    "mobilenet_model_path = os.path.join(os.curdir, 'models', 'mobilenet_model.h5')\n",
    "\n",
    "models = [models.load_model(tf_model_path),\n",
    "          models.load_model(resnet_model_path),\n",
    "          models.load_model(vgg19_model_path),\n",
    "          models.load_model(mobilenet_model_path)]"
   ]
  },
  {
   "cell_type": "code",
   "execution_count": 174,
   "metadata": {},
   "outputs": [],
   "source": [
    "# Create the weighted average ensemble model\n",
    "weights = [0.25, 0.25, 0.25, 0.25]\n",
    "input_shape = (128, 128, 3)\n",
    "inputs = layers.Input(shape = input_shape)\n",
    "outputs = [model(inputs) for model in models]\n",
    "weighted_average = tf.reshape((), (0, 19)) # An empty tensor\n",
    "\n",
    "for i in range(0, len(models)):\n",
    "    if i == 0:\n",
    "        weighted_average = weights[i] * outputs[i]\n",
    "    else:\n",
    "        weighted_average = weighted_average + weights[i] * outputs[i]\n",
    "    # weighted_average = weighted_average + weights[i] * outputs[i]\n",
    "    # weighted_average = tf.math.add(weighted_average, weights[i] * outputs[i])\n",
    "# weighted_average = weights[0]*outputs[0] + weights[1]*outputs[1] + weights[2]*outputs[2] + weights[3]*outputs[3]\n",
    "\n",
    "ensemble_model = tf.keras.Model(inputs = inputs, outputs = weighted_average, name = 'Ensemble_Model')"
   ]
  },
  {
   "cell_type": "code",
   "execution_count": 175,
   "metadata": {},
   "outputs": [],
   "source": [
    "ensemble_model.compile(optimizer=optimizers.Adam(learning_rate=0.001),loss='sparse_categorical_crossentropy',metrics=['accuracy'])\n",
    "# ensemble_model.save(os.path.join(os.curdir, 'models', 'ensemble_model.h5'))"
   ]
  },
  {
   "cell_type": "code",
   "execution_count": 176,
   "metadata": {},
   "outputs": [
    {
     "name": "stdout",
     "output_type": "stream",
     "text": [
      "125/125 [==============================] - 71s 515ms/step - loss: 0.0494 - accuracy: 0.9990\n"
     ]
    },
    {
     "data": {
      "text/plain": [
       "[0.04942608252167702, 0.9989929795265198]"
      ]
     },
     "execution_count": 176,
     "metadata": {},
     "output_type": "execute_result"
    }
   ],
   "source": [
    "ensemble_model.evaluate(test)"
   ]
  },
  {
   "cell_type": "markdown",
   "metadata": {},
   "source": [
    "## Testing"
   ]
  },
  {
   "cell_type": "code",
   "execution_count": 177,
   "metadata": {},
   "outputs": [
    {
     "data": {
      "text/plain": [
       "<matplotlib.image.AxesImage at 0x15fc9d010>"
      ]
     },
     "execution_count": 177,
     "metadata": {},
     "output_type": "execute_result"
    },
    {
     "data": {
      "image/png": "[encoded data removed]",
      "text/plain": [
       "<Figure size 640x480 with 1 Axes>"
      ]
     },
     "metadata": {},
     "output_type": "display_data"
    }
   ],
   "source": [
    "# Testing the ensemble model\n",
    "\n",
    "iterator = test.__iter__()\n",
    "current = iterator.get_next()\n",
    "plt.imshow(current[0][0])"
   ]
  },
  {
   "cell_type": "code",
   "execution_count": 178,
   "metadata": {},
   "outputs": [
    {
     "name": "stdout",
     "output_type": "stream",
     "text": [
      "1/1 [==============================] - 4s 4s/step\n",
      "[1.3686294e-15 9.8814068e-09 2.1662310e-14 8.7553592e-16 2.1820261e-08\n",
      " 1.0118819e-17 4.5938350e-16 6.4169538e-11 1.2153717e-19 1.1102973e-16\n",
      " 9.9999988e-01 1.1176121e-09 1.0956382e-08 1.5549474e-10 1.0081682e-07\n",
      " 3.2015713e-11 5.7363858e-10 1.7625284e-13 2.1577069e-10]\n"
     ]
    }
   ],
   "source": [
    "ensemble_model_prediction = ensemble_model.predict(current[0])\n",
    "print(ensemble_model_prediction[0])"
   ]
  },
  {
   "cell_type": "code",
   "execution_count": 90,
   "metadata": {},
   "outputs": [
    {
     "name": "stdout",
     "output_type": "stream",
     "text": [
      "1/1 [==============================] - 0s 140ms/step\n",
      "[1.2963983e-23 6.5498613e-38 2.2342218e-17 1.0000000e+00 5.0147218e-36\n",
      " 1.1583550e-12 1.0977082e-28 6.0935034e-17 2.5564692e-19 1.3496759e-25\n",
      " 3.2999937e-29 2.2435751e-31 7.8795881e-19 5.1149185e-20 1.7103845e-34\n",
      " 1.8181394e-28 5.9333665e-34 2.8853886e-27 1.7111255e-15]\n"
     ]
    }
   ],
   "source": [
    "tf_model_path = os.path.join(os.curdir, 'models', 'tf_model.h5')\n",
    "tf_model = tf.keras.models.load_model(tf_model_path)\n",
    "tf_model_prediction = tf_model.predict(current[0])\n",
    "print(tf_model_prediction[0])"
   ]
  },
  {
   "cell_type": "code",
   "execution_count": 79,
   "metadata": {},
   "outputs": [
    {
     "name": "stdout",
     "output_type": "stream",
     "text": [
      "1/1 [==============================] - 1s 1s/step\n",
      "[4.8073665e-03 2.1124008e-04 4.8093472e-04 4.2893257e-02 5.8125859e-01\n",
      " 4.3319250e-03 3.2396042e-01 3.0370859e-02 4.8943241e-03 5.2744540e-04\n",
      " 4.5870766e-03 2.7251538e-04 4.4602377e-04 7.0692047e-05 4.4657881e-04\n",
      " 6.2987459e-07 2.7798739e-04 1.5602724e-04 6.1140463e-06]\n"
     ]
    }
   ],
   "source": [
    "resnet_model_path = os.path.join(os.curdir, 'models', 'resnet_model.h5')\n",
    "resnet_model = tf.keras.models.load_model(resnet_model_path)\n",
    "resnet_model_prediction = resnet_model.predict(current[0])\n",
    "print(resnet_model_prediction[0])"
   ]
  },
  {
   "cell_type": "code",
   "execution_count": 80,
   "metadata": {},
   "outputs": [
    {
     "name": "stdout",
     "output_type": "stream",
     "text": [
      "WARNING:tensorflow:5 out of the last 6 calls to <function Model.make_predict_function.<locals>.predict_function at 0x1568dcb80> triggered tf.function retracing. Tracing is expensive and the excessive number of tracings could be due to (1) creating @tf.function repeatedly in a loop, (2) passing tensors with different shapes, (3) passing Python objects instead of tensors. For (1), please define your @tf.function outside of the loop. For (2), @tf.function has reduce_retracing=True option that can avoid unnecessary retracing. For (3), please refer to https://www.tensorflow.org/guide/function#controlling_retracing and https://www.tensorflow.org/api_docs/python/tf/function for  more details.\n",
      "1/1 [==============================] - 1s 550ms/step\n",
      "[2.0884801e-08 6.8905734e-07 5.5016631e-06 1.2961111e-07 9.7798723e-01\n",
      " 1.1418805e-07 1.4770643e-06 8.0598265e-06 6.2583825e-07 4.0960071e-09\n",
      " 1.6212696e-04 3.1273658e-04 8.6289435e-07 1.2211451e-04 2.0604305e-02\n",
      " 7.2381608e-06 6.9767790e-04 4.3052347e-05 4.6214071e-05]\n"
     ]
    }
   ],
   "source": [
    "vgg19_model_path = os.path.join(os.curdir, 'models', 'vgg19_model.h5')\n",
    "vgg19_model = tf.keras.models.load_model(vgg19_model_path)\n",
    "vgg19_model_prediction = vgg19_model.predict(current[0])\n",
    "print(vgg19_model_prediction[0])"
   ]
  },
  {
   "cell_type": "code",
   "execution_count": 81,
   "metadata": {},
   "outputs": [
    {
     "name": "stdout",
     "output_type": "stream",
     "text": [
      "WARNING:tensorflow:6 out of the last 7 calls to <function Model.make_predict_function.<locals>.predict_function at 0x15cf22a20> triggered tf.function retracing. Tracing is expensive and the excessive number of tracings could be due to (1) creating @tf.function repeatedly in a loop, (2) passing tensors with different shapes, (3) passing Python objects instead of tensors. For (1), please define your @tf.function outside of the loop. For (2), @tf.function has reduce_retracing=True option that can avoid unnecessary retracing. For (3), please refer to https://www.tensorflow.org/guide/function#controlling_retracing and https://www.tensorflow.org/api_docs/python/tf/function for  more details.\n",
      "1/1 [==============================] - 1s 998ms/step\n",
      "[1.1211676e-18 3.7104139e-12 2.1202408e-15 2.7246234e-16 1.0000000e+00\n",
      " 5.7251497e-16 1.8293008e-14 2.7684395e-15 1.8742063e-15 2.9881388e-14\n",
      " 2.8812092e-08 4.1646070e-12 2.0955184e-12 1.4144499e-15 2.3618817e-08\n",
      " 8.7005080e-19 3.0175959e-10 1.1378387e-09 1.4891712e-12]\n"
     ]
    }
   ],
   "source": [
    "mobilenet_model_path = os.path.join(os.curdir, 'models', 'mobilenet_model.h5')\n",
    "mobilenet_model = tf.keras.models.load_model(mobilenet_model_path)\n",
    "mobilenet_model_prediction = mobilenet_model.predict(current[0])\n",
    "print(mobilenet_model_prediction[0])"
   ]
  },
  {
   "cell_type": "code",
   "execution_count": 469,
   "metadata": {},
   "outputs": [
    {
     "name": "stdout",
     "output_type": "stream",
     "text": [
      "125/125 [==============================] - 4s 20ms/step - loss: 1.0100 - accuracy: 0.8781\n"
     ]
    },
    {
     "data": {
      "text/plain": [
       "[1.0100042819976807, 0.8781470060348511]"
      ]
     },
     "execution_count": 469,
     "metadata": {},
     "output_type": "execute_result"
    }
   ],
   "source": [
    "tf_model.evaluate(test)"
   ]
  },
  {
   "cell_type": "code",
   "execution_count": 474,
   "metadata": {},
   "outputs": [
    {
     "name": "stdout",
     "output_type": "stream",
     "text": [
      "125/125 [==============================] - 7s 41ms/step - loss: 0.1032 - accuracy: 0.9748\n",
      "125/125 [==============================] - 20s 140ms/step - loss: 0.3795 - accuracy: 0.8852\n",
      "125/125 [==============================] - 140s 1s/step - loss: 0.0713 - accuracy: 0.9768\n"
     ]
    },
    {
     "data": {
      "text/plain": [
       "[0.07127068191766739, 0.9768378734588623]"
      ]
     },
     "execution_count": 474,
     "metadata": {},
     "output_type": "execute_result"
    }
   ],
   "source": [
    "mobilenet_model.evaluate(test)\n",
    "resnet_model.evaluate(test)\n",
    "vgg19_model.evaluate(test)"
   ]
  }
 ],
 "metadata": {
  "colab": {
   "collapsed_sections": [
    "aWp7X9UPJgHW",
    "8uAWBF3bxBTi",
    "v5fjuSxMCglJ"
   ],
   "provenance": [],
   "toc_visible": true
  },
  "kernelspec": {
   "display_name": "Python 3 (ipykernel)",
   "language": "python",
   "name": "python3"
  },
  "language_info": {
   "codemirror_mode": {
    "name": "ipython",
    "version": 3
   },
   "file_extension": ".py",
   "mimetype": "text/x-python",
   "name": "python",
   "nbconvert_exporter": "python",
   "pygments_lexer": "ipython3",
   "version": "3.11.3"
  },
  "toc-autonumbering": false,
  "toc-showmarkdowntxt": true,
  "toc-showtags": false
 },
 "nbformat": 4,
 "nbformat_minor": 4
}
